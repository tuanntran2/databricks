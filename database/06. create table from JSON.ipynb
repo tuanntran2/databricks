{
 "cells": [
  {
   "cell_type": "markdown",
   "metadata": {
    "application/vnd.databricks.v1+cell": {
     "cellMetadata": {},
     "inputWidgets": {},
     "nuid": "a4636782-cafd-4835-96e8-c739e624d466",
     "showTitle": false,
     "tableResultSettingsMap": {},
     "title": ""
    }
   },
   "source": [
    "# Create External Tables from JSON files"
   ]
  },
  {
   "cell_type": "code",
   "execution_count": 0,
   "metadata": {
    "application/vnd.databricks.v1+cell": {
     "cellMetadata": {
      "byteLimit": 2048000,
      "rowLimit": 10000
     },
     "inputWidgets": {},
     "nuid": "66d1efaf-a5db-4a46-946f-e86fc7fc3ad9",
     "showTitle": false,
     "tableResultSettingsMap": {},
     "title": ""
    }
   },
   "outputs": [],
   "source": [
    "CREATE TABLE IF NOT EXISTS f1_raw.constructors (\n",
    "    constructorId INT,\n",
    "    constructorRef STRING,\n",
    "    name STRING,\n",
    "    nationality STRING,\n",
    "    url STRING\n",
    ")\n",
    "USING json\n",
    "OPTIONS (path \"/mnt/raw/constructors.json\", header true)\n"
   ]
  },
  {
   "cell_type": "code",
   "execution_count": 0,
   "metadata": {
    "application/vnd.databricks.v1+cell": {
     "cellMetadata": {
      "byteLimit": 2048000,
      "rowLimit": 10000
     },
     "inputWidgets": {},
     "nuid": "6682fa8a-8d57-49f6-951b-4f51eaf058da",
     "showTitle": false,
     "tableResultSettingsMap": {},
     "title": ""
    }
   },
   "outputs": [],
   "source": [
    "-- JSON file contains nested struct\n",
    "\n",
    "CREATE TABLE IF NOT EXISTS f1_raw.drivers (\n",
    "    driverId INT,\n",
    "    driverRef STRING,\n",
    "    number INT,\n",
    "    code STRING,\n",
    "    name STRUCT<forename: STRING, surname: STRING>,\n",
    "    dob DATE,\n",
    "    nationality STRING,\n",
    "    url STRING\n",
    ")\n",
    "USING json\n",
    "OPTIONS (path \"/mnt/raw/drivers.json\", header true)"
   ]
  },
  {
   "cell_type": "code",
   "execution_count": 0,
   "metadata": {
    "application/vnd.databricks.v1+cell": {
     "cellMetadata": {
      "byteLimit": 2048000,
      "rowLimit": 10000
     },
     "inputWidgets": {},
     "nuid": "4440fb32-1b3a-4a07-b039-4770ce8ebaa4",
     "showTitle": false,
     "tableResultSettingsMap": {},
     "title": ""
    }
   },
   "outputs": [],
   "source": [
    "CREATE TABLE IF NOT EXISTS f1_raw.results (\n",
    "    resultId INT,\n",
    "    raceId INT,\n",
    "    driverId INT,\n",
    "    constructorId INT,\n",
    "    number INT,\n",
    "    grid INT,\n",
    "    position INT,\n",
    "    positionText STRING,\n",
    "    positionOrder INT,\n",
    "    points Float,\n",
    "    laps INT,\n",
    "    time STRING,\n",
    "    milliseconds INT,\n",
    "    fastestLap INT,\n",
    "    rank INT,\n",
    "    fastestLapTime STRING,\n",
    "    fastestLapSpeed STRING,\n",
    "    statusId INT\n",
    ")\n",
    "USING json\n",
    "OPTIONS (path \"/mnt/raw/results.json\")"
   ]
  },
  {
   "cell_type": "code",
   "execution_count": 0,
   "metadata": {
    "application/vnd.databricks.v1+cell": {
     "cellMetadata": {
      "byteLimit": 2048000,
      "rowLimit": 10000
     },
     "inputWidgets": {},
     "nuid": "859a0103-4ac8-4eb9-99c8-67b8ec1a7b21",
     "showTitle": false,
     "tableResultSettingsMap": {},
     "title": ""
    }
   },
   "outputs": [],
   "source": [
    "-- Multiline JSON file\n",
    "\n",
    "CREATE TABLE IF NOT EXISTS f1_raw.pit_stops (\n",
    "    raceId INT,\n",
    "    driverId INT,\n",
    "    stop INT,\n",
    "    lap INT,\n",
    "    time STRING,\n",
    "    duration STRING,\n",
    "    milliseconds INT\n",
    ")\n",
    "USING json\n",
    "OPTIONS (path \"/mnt/raw/pit_stops.json\", multiline true)"
   ]
  }
 ],
 "metadata": {
  "application/vnd.databricks.v1+notebook": {
   "computePreferences": null,
   "dashboards": [],
   "environmentMetadata": {
    "base_environment": "",
    "environment_version": "2"
   },
   "inputWidgetPreferences": null,
   "language": "sql",
   "notebookMetadata": {
    "pythonIndentUnit": 4
   },
   "notebookName": "06. create table from JSON",
   "widgets": {}
  },
  "language_info": {
   "name": "sql"
  }
 },
 "nbformat": 4,
 "nbformat_minor": 0
}
