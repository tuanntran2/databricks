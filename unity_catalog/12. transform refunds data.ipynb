{
 "cells": [
  {
   "cell_type": "markdown",
   "id": "111bfb26-a5bc-4020-8bac-abce5100b427",
   "metadata": {},
   "source": [
    "# Transform Refunds Data\n",
    "1. Extract specific portion of the string from refund_reason using split function\n",
    "2. Extract specific portion of the string from refund_reason using regexp_extract function\n",
    "3. Extract date and time from the refund_timestamp\n",
    "4. Write transformed data to the Silver schema in hive metastore"
   ]
  },
  {
   "cell_type": "markdown",
   "id": "fa21b4d1-4fc3-4bed-aab1-6f9b91746d7b",
   "metadata": {},
   "source": [
    "1. Extract specific portion of the string from refund_reason using split function \\\n",
    "   [Documentation for split function](https://learn.microsoft.com/en-us/azure/databricks/sql/language-manual/functions/split)"
   ]
  },
  {
   "cell_type": "code",
   "execution_count": null,
   "id": "74dc437a-0703-445b-bb9f-d188cba46d2a",
   "metadata": {},
   "outputs": [],
   "source": [
    "SELECT\n",
    "    refund_id,\n",
    "    payment_id,\n",
    "    refund_timestamp,\n",
    "    refund_amount,\n",
    "    split(refund_reason, ':')[0] as refund_reason,\n",
    "    split(refund_reason, ':')[1] as refund_source\n",
    "FROM hive_metastore.bronze.refunds;"
   ]
  },
  {
   "cell_type": "markdown",
   "id": "3ee71e7a-9153-41f0-ad2f-b5b6e9bb184f",
   "metadata": {},
   "source": [
    "2. Extract specific portion of the string from refund_reason using regexp_extract function \\\n",
    "   [Documentation for regexp_extract function](https://learn.microsoft.com/en-us/azure/databricks/sql/language-manual/functions/regexp_extract)"
   ]
  },
  {
   "cell_type": "code",
   "execution_count": null,
   "id": "e9e4d21f-02e8-493a-bda6-aaadff1b47ed",
   "metadata": {},
   "outputs": [],
   "source": [
    "SELECT\n",
    "    refund_id,\n",
    "    payment_id,\n",
    "    refund_timestamp,\n",
    "    refund_amount,\n",
    "    -- regexp_extract(refund_reason, '(.*):.*', 1) as refund_reason,\n",
    "    -- regexp_extract(refund_reason, '.*:(.*)', 1) as refund_source\n",
    "    regexp_extract(refund_reason, '^([^:]+):, 1) as refund_reason,\n",
    "    regexp_extract(refund_reason, '^[^:]+):(.*)$', 1) as refund_source\n",
    "FROM hive_metastore.bronze.refunds;"
   ]
  },
  {
   "cell_type": "markdown",
   "id": "e662eca9-d056-4eb8-b32b-83bd91f1234b",
   "metadata": {},
   "source": [
    "3. Write transformed data to the Silver schema"
   ]
  },
  {
   "cell_type": "code",
   "execution_count": null,
   "id": "ac081675-e11a-4074-98cd-f1c52f03eb48",
   "metadata": {},
   "outputs": [],
   "source": [
    "\n",
    "CREATE OR REPLACE SCHEMA hive_metastore.silver;"
   ]
  },
  {
   "cell_type": "code",
   "execution_count": null,
   "id": "abfdcea6-07ec-4eed-b930-7b9271adea36",
   "metadata": {},
   "outputs": [],
   "source": [
    "\n",
    "CREATE OR REPLACE TABLE hive_metastore.silver.refunds\n",
    "AS\n",
    "SELECT\n",
    "    refund_id,\n",
    "    payment_id,\n",
    "    refund_timestamp,\n",
    "    refund_amount,\n",
    "    -- regexp_extract(refund_reason, '^([^:]+):, 1) as refund_reason,\n",
    "    -- regexp_extract(refund_reason, '^[^:]+):(.*)$', 1) as refund_source\n",
    "FROM hive_metastore.bronze.refunds;"
   ]
  },
  {
   "cell_type": "code",
   "execution_count": null,
   "id": "8fefb89e-e0de-43de-a6b2-42e27c0ddd22",
   "metadata": {},
   "outputs": [],
   "source": []
  },
  {
   "cell_type": "code",
   "execution_count": null,
   "id": "8912934c-d857-4cb5-bbf0-f048f432c004",
   "metadata": {},
   "outputs": [],
   "source": []
  }
 ],
 "metadata": {
  "kernelspec": {
   "display_name": "Python 3 (ipykernel)",
   "language": "python",
   "name": "python3"
  },
  "language_info": {
   "codemirror_mode": {
    "name": "ipython",
    "version": 3
   },
   "file_extension": ".py",
   "mimetype": "text/x-python",
   "name": "python",
   "nbconvert_exporter": "python",
   "pygments_lexer": "ipython3",
   "version": "3.13.3"
  }
 },
 "nbformat": 4,
 "nbformat_minor": 5
}
