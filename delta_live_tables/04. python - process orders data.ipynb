{
 "cells": [
  {
   "cell_type": "markdown",
   "metadata": {
    "application/vnd.databricks.v1+cell": {
     "cellMetadata": {},
     "inputWidgets": {},
     "nuid": "7573281c-ae03-4e47-9522-8ae10b478226",
     "showTitle": false,
     "tableResultSettingsMap": {},
     "title": ""
    }
   },
   "source": [
    "# Process Orders Data\n",
    "1. Ingest the data into the data lakehouse - bronze_orders\n",
    "2. Perform data quality checks and transform the data as required - silver_orders_clean\n",
    "3. Apply changes to the Adresses data (SCD Type 2) - silver_orders\n",
    "\n",
    "Note: Within a DLT pipeline you can have some notebooks in Python, some notebooks in SQL.  But within a notebook, you can't mix languages, either all python or all SQL.  Can't have magic commands."
   ]
  },
  {
   "cell_type": "markdown",
   "metadata": {
    "application/vnd.databricks.v1+cell": {
     "cellMetadata": {},
     "inputWidgets": {},
     "nuid": "92b3a824-f3e0-449e-a8b7-1bf6c06a274c",
     "showTitle": false,
     "tableResultSettingsMap": {},
     "title": ""
    }
   },
   "source": [
    "1. Ingest the data into the data lakehouse - bronze_orders"
   ]
  },
  {
   "cell_type": "code",
   "execution_count": 0,
   "metadata": {
    "application/vnd.databricks.v1+cell": {
     "cellMetadata": {
      "byteLimit": 2048000,
      "rowLimit": 10000
     },
     "inputWidgets": {},
     "nuid": "522fb93e-af97-4296-8d99-1b9b8cdf83e6",
     "showTitle": false,
     "tableResultSettingsMap": {},
     "title": ""
    }
   },
   "outputs": [],
   "source": [
    "import dlt\n",
    "import pyspark.sql.functions as F\n",
    "\n",
    "@dlt.table(\n",
    "    name=\"bronze_orders\",\n",
    "    table_properties={\"quality\": \"bronze\"},\n",
    "    comment=\"Raw addresses data ingested from the source system\",\n",
    ")\n",
    "def create_bronze_orders():\n",
    "    data = spark.readStream \\\n",
    "        .format(\"cloudFiles\") \\\n",
    "        .option(\"cloudFiles.format\", \"json\") \\\n",
    "        .option(\"cloudFiles.inferColumnTypes\", \"true\") \\\n",
    "        .load(\"/mnt/circuitbox/landing/operational_data/orders\")\n",
    "\n",
    "    return data.select(\n",
    "        \"*\",\n",
    "        F.col(\"_metadata.file_path\").alias(\"input_file_path\"),\n",
    "        F.current_timestamp().alias(\"ingestion_date\"),\n",
    "    )"
   ]
  },
  {
   "cell_type": "markdown",
   "metadata": {
    "application/vnd.databricks.v1+cell": {
     "cellMetadata": {},
     "inputWidgets": {},
     "nuid": "5df304d0-7e04-4959-9974-79ff3679f2b0",
     "showTitle": false,
     "tableResultSettingsMap": {},
     "title": ""
    }
   },
   "source": [
    "2. Perform data quality checks and transformthe data as required silver_orders_clean"
   ]
  },
  {
   "cell_type": "code",
   "execution_count": 0,
   "metadata": {
    "application/vnd.databricks.v1+cell": {
     "cellMetadata": {},
     "inputWidgets": {},
     "nuid": "61a78933-cd9a-43f2-b444-3e992c7d6d8d",
     "showTitle": false,
     "tableResultSettingsMap": {},
     "title": ""
    }
   },
   "outputs": [],
   "source": [
    "@dlt.table(\n",
    "    name=\"silver_orders_clean\",\n",
    "    comment = \"Cleaned orders data\",\n",
    "    table_properties = \"{'quality': 'silver'}\",\n",
    ")\n",
    "@dlt.expect_all_or_fail(\n",
    "    {\n",
    "        \"valid_customer_id\", \"customer_id IS NOT NULL\",\n",
    "        \"valid_order_id\", \"order_id IS NOT NULL\"\n",
    "    }\n",
    ")\n",
    "@dlt.expect_all_(\n",
    "    {\n",
    "        \"valid_order_status\", \"order_status IN (\n",
    "            'Pending',\n",
    "            'Shipped',\n",
    "            'Cancelled',\n",
    "            'Completed'\n",
    "        )\"\n",
    "    }\n",
    ")\n",
    "def create_silver_orders_clean():\n",
    "    return spark.readStream.table(\"LIVE.bronze_orders\") \\\n",
    "        .select(\n",
    "            \"order_id\",\n",
    "            \"customer_id\",\n",
    "            F.col(\"order_timestamp\").cast(\"timestamp\")\n",
    "            \"payment_method\",\n",
    "            explode(array_distinct(items)) AS item            \n",
    "            \"order_status\",\n",
    "        )"
   ]
  },
  {
   "cell_type": "markdown",
   "metadata": {
    "application/vnd.databricks.v1+cell": {
     "cellMetadata": {},
     "inputWidgets": {},
     "nuid": "dd356d58-6513-4c14-9cdb-5b5601383583",
     "showTitle": false,
     "tableResultSettingsMap": {},
     "title": ""
    }
   },
   "source": []
  },
  {
   "cell_type": "markdown",
   "metadata": {
    "application/vnd.databricks.v1+cell": {
     "cellMetadata": {},
     "inputWidgets": {},
     "nuid": "e2953031-b08d-468d-9254-89a8bc9dadcf",
     "showTitle": false,
     "tableResultSettingsMap": {},
     "title": ""
    }
   },
   "source": [
    "3. Apply changes to the Orders data (SCD Type 2) - silver_addresses"
   ]
  },
  {
   "cell_type": "code",
   "execution_count": 0,
   "metadata": {
    "application/vnd.databricks.v1+cell": {
     "cellMetadata": {},
     "inputWidgets": {},
     "nuid": "5dcef2a2-5b47-450c-821d-5aaf6484597c",
     "showTitle": false,
     "tableResultSettingsMap": {},
     "title": ""
    }
   },
   "outputs": [],
   "source": [
    "dlt.create_streaming_table(\n",
    "    name=\"silver_orders\",\n",
    "    comment = \"SCD Type 2 orders data\",\n",
    "    table_properties = \"{'quality': 'silver'}\",\n",
    ")\n",
    "\n",
    "dlt.apply_changes(\n",
    "    target = \"silver_orders\",\n",
    "    source = \"silver_orders_clean\",\n",
    "    keys = [\"order_id\", customer_id\"],\n",
    "    sequence_by = \"order_timestamp\",\n",
    "    stored_as_scd_type = 2,\n",
    ")"
   ]
  }
 ],
 "metadata": {
  "application/vnd.databricks.v1+notebook": {
   "computePreferences": null,
   "dashboards": [],
   "environmentMetadata": {
    "base_environment": "",
    "environment_version": "2"
   },
   "inputWidgetPreferences": null,
   "language": "python",
   "notebookMetadata": {
    "mostRecentlyExecutedCommandWithImplicitDF": {
     "commandId": 4699604227416643,
     "dataframes": [
      "_sqldf"
     ]
    },
    "pythonIndentUnit": 4
   },
   "notebookName": "04. python - process orders data",
   "widgets": {}
  },
  "language_info": {
   "name": "python"
  }
 },
 "nbformat": 4,
 "nbformat_minor": 0
}
