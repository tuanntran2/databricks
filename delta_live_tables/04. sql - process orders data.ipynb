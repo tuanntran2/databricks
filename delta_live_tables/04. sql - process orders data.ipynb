{
 "cells": [
  {
   "cell_type": "markdown",
   "metadata": {
    "application/vnd.databricks.v1+cell": {
     "cellMetadata": {},
     "inputWidgets": {},
     "nuid": "f8d2e136-8b41-498a-b001-2106aec9a4c8",
     "showTitle": false,
     "tableResultSettingsMap": {},
     "title": ""
    }
   },
   "source": [
    "# Process the Orders Data\n",
    "1. Ingest the data into the data lakehouse - bronze_orders\n",
    "2. Perform data quality checks and transform the data as requied - silver_orders_clean\n",
    "3. Apply changes to the orders data - silver_orders"
   ]
  },
  {
   "cell_type": "markdown",
   "metadata": {
    "application/vnd.databricks.v1+cell": {
     "cellMetadata": {
      "byteLimit": 2048000,
      "rowLimit": 10000
     },
     "inputWidgets": {},
     "nuid": "1bf0bb7c-0a81-4736-80b4-50a8c8a561c2",
     "showTitle": false,
     "tableResultSettingsMap": {},
     "title": ""
    }
   },
   "source": [
    "1. Ingest the data into the data lakehouse - bronze_orders"
   ]
  },
  {
   "cell_type": "code",
   "execution_count": 0,
   "metadata": {
    "application/vnd.databricks.v1+cell": {
     "cellMetadata": {
      "byteLimit": 2048000,
      "rowLimit": 10000
     },
     "inputWidgets": {},
     "nuid": "21e1b2aa-2f92-4efb-a9b6-42cf5f9950d6",
     "showTitle": false,
     "tableResultSettingsMap": {},
     "title": ""
    }
   },
   "outputs": [],
   "source": [
    "-- This operation requires unity catalog\n",
    "\n",
    "CREATE OR REFRESH STREAMING TABLE bronze_orders\n",
    "COMMENT 'Raw orders data ingested from the source system operational data'\n",
    "TBLPROPERTIES ('quality' = 'bronze')\n",
    "AS\n",
    "SELECT\n",
    "  *,\n",
    "  _metadata.file_path AS input_file_path,\n",
    "  CURRENT_TIMESTAMP AS ingestion_timestamp\n",
    "FROM cloud_files(\n",
    "  '/Volumes/circuitbox/landing/operational_data/orders',\n",
    "  'json',\n",
    "  map('cloudFiles.inferColumntypes', 'true')\n",
    ");"
   ]
  },
  {
   "cell_type": "markdown",
   "metadata": {
    "application/vnd.databricks.v1+cell": {
     "cellMetadata": {},
     "inputWidgets": {},
     "nuid": "07d62ec6-aac8-46ff-80dd-c185cfabe6ee",
     "showTitle": false,
     "tableResultSettingsMap": {},
     "title": ""
    }
   },
   "source": [
    "2. Perform data quality checks and transform the data as required - silver_orders_clean"
   ]
  },
  {
   "cell_type": "code",
   "execution_count": 0,
   "metadata": {
    "application/vnd.databricks.v1+cell": {
     "cellMetadata": {},
     "inputWidgets": {},
     "nuid": "11fe2280-f21b-49ff-88b2-9773bae9dd4f",
     "showTitle": false,
     "tableResultSettingsMap": {},
     "title": ""
    }
   },
   "outputs": [],
   "source": [
    "CREATE OR REFRESH STREAMING TABLE silver_order_clean(\n",
    "  CONSTRAINT valid_customer_id EXPECT (customer_id IS NOT NULL) ON VIOLATION FAIL UPDATE,\n",
    "  CONSTRAINT valid_order_id EXPECT (order_id IS NOT NULL) ON VIOLATION FAIL UPDATE,\n",
    "  CONSTRAINT valid_order_status EXPECT (order_status IS IN ('Pending', 'Shipped', 'Cancelled', 'Completed')),\n",
    "  CONSTRAINT valid_payment_method EXPECT (payment_method IS IN ('Credit Card', 'Bank Transfer', 'Paypal'))\n",
    ")\n",
    "COMMENT 'cleaned orders data'\n",
    "TBLPROPERTIES('quality', 'true')\n",
    "AS\n",
    "SELECT\n",
    "  order_id,\n",
    "  customer_id,\n",
    "  CAST(\"order_timestamp\" AS TIMESTAMP) AS order_timestamp\n",
    "  payment_method,\n",
    "  items,\n",
    "  order_status\n",
    "FROM STREAM(LIVE.bronze_orders)"
   ]
  },
  {
   "cell_type": "markdown",
   "metadata": {
    "application/vnd.databricks.v1+cell": {
     "cellMetadata": {},
     "inputWidgets": {},
     "nuid": "f64a8e34-180a-4c61-97d3-9726f3c5d4ca",
     "showTitle": false,
     "tableResultSettingsMap": {},
     "title": ""
    }
   },
   "source": [
    "3. Explode the items array from order object - silver_orders"
   ]
  },
  {
   "cell_type": "code",
   "execution_count": 0,
   "metadata": {
    "application/vnd.databricks.v1+cell": {
     "cellMetadata": {},
     "inputWidgets": {},
     "nuid": "02790893-5499-458b-a69b-c4ad3bda8b3e",
     "showTitle": false,
     "tableResultSettingsMap": {},
     "title": ""
    }
   },
   "outputs": [],
   "source": [
    "CREATE STREAMING TABLE silver_orders\n",
    "AS\n",
    "SELECT\n",
    "  order_id,\n",
    "  customer_id,\n",
    "  order_timestamp,\n",
    "  payment_method,\n",
    "  order_status,\n",
    "  item.item_id,\n",
    "  item.name AS item_name,\n",
    "  item.price AS item_price,\n",
    "  item.quantity AS item_quanity,\n",
    "  item.category AS item_category\n",
    "FROM (\n",
    "  SELECT\n",
    "    order_id,\n",
    "    customer_id,\n",
    "    order_timestamp,\n",
    "    payment_method,\n",
    "    order_status,\n",
    "    explode(items) AS item\n",
    "  FROM STREAM(LIVE.silver_orders_clean)\n",
    ");\n"
   ]
  }
 ],
 "metadata": {
  "application/vnd.databricks.v1+notebook": {
   "computePreferences": null,
   "dashboards": [],
   "environmentMetadata": {
    "base_environment": "",
    "environment_version": "2"
   },
   "inputWidgetPreferences": null,
   "language": "sql",
   "notebookMetadata": {
    "mostRecentlyExecutedCommandWithImplicitDF": {
     "commandId": 8269505658528943,
     "dataframes": [
      "_sqldf"
     ]
    },
    "pythonIndentUnit": 4
   },
   "notebookName": "04. sql - process orders data",
   "widgets": {}
  },
  "language_info": {
   "name": "sql"
  }
 },
 "nbformat": 4,
 "nbformat_minor": 0
}
