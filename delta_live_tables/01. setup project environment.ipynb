{
 "cells": [
  {
   "cell_type": "markdown",
   "metadata": {
    "application/vnd.databricks.v1+cell": {
     "cellMetadata": {},
     "inputWidgets": {},
     "nuid": "50de3562-c7d1-4b99-b3c5-9d3b7da1d20a",
     "showTitle": false,
     "tableResultSettingsMap": {},
     "title": ""
    }
   },
   "source": [
    "# Setup Project Environment for CircuitBox Data Lakehouse\n",
    "1. Create external location\n",
    "2. Create catalog\n",
    "3. Create schemas\n",
    "4. Create volume"
   ]
  },
  {
   "cell_type": "markdown",
   "metadata": {
    "application/vnd.databricks.v1+cell": {
     "cellMetadata": {},
     "inputWidgets": {},
     "nuid": "764f757f-9e4b-48a3-b1bd-986fc84271dd",
     "showTitle": false,
     "tableResultSettingsMap": {},
     "title": ""
    }
   },
   "source": [
    "1. Create External Location \\\n",
    "External location name: udemyttstorage_scircuitbox \\\n",
    "ADLS path: abfss://circuitbox@udemyttstorage.dfs.core.windows.net/ \\\n",
    "Storage credential: udemyttstorage_sc"
   ]
  },
  {
   "cell_type": "markdown",
   "metadata": {
    "application/vnd.databricks.v1+cell": {
     "cellMetadata": {},
     "inputWidgets": {},
     "nuid": "e204ce4f-fffe-4b8e-aaf0-22735f074c26",
     "showTitle": false,
     "tableResultSettingsMap": {},
     "title": ""
    }
   },
   "source": [
    "Create Access Connector: \\\n",
    "  * Create an \"_Access Connector for Azure Databricks_\" resource\n",
    "\n",
    "In the _Access Control (IAM)_ of the storage account, add a \"_Storage Blob Data Contributor_\" role\n",
    "  * Select the above created access connector to this role\n",
    "\n",
    "Create Storage Credentials\n",
    "  * Go to databrick workspace\n",
    "  * Navigate to _Catalog -> External Data -> Storage Credentials_\n",
    "  * Click on _Create credentials_\n",
    "  * Reference the access connector\n"
   ]
  },
  {
   "cell_type": "code",
   "execution_count": 0,
   "metadata": {
    "application/vnd.databricks.v1+cell": {
     "cellMetadata": {},
     "inputWidgets": {},
     "nuid": "9ad2f905-645a-467d-b886-248746e505fc",
     "showTitle": false,
     "tableResultSettingsMap": {},
     "title": ""
    }
   },
   "outputs": [],
   "source": [
    "CREATE EXTERNAL LOCATION IF NOT EXISTS udemyttstorage_scircuitbox\n",
    "URL 'abfss://circuitbox@udemyttstorage.dfs.core.windows.net/'\n",
    "WITH (STORAGE CREDENTIAL udemyttstorage_sc)\n",
    "COMMENT 'External location for the circuitbox data lakehouse'\n"
   ]
  },
  {
   "cell_type": "markdown",
   "metadata": {
    "application/vnd.databricks.v1+cell": {
     "cellMetadata": {},
     "inputWidgets": {},
     "nuid": "e6d6236d-e012-414f-8ef3-244d6d1623e8",
     "showTitle": false,
     "tableResultSettingsMap": {},
     "title": ""
    }
   },
   "source": [
    "2. Create Catalog \\\n",
    "Catalog Name: circuitbox \\\n",
    "Managed Location: abfss://circuitbox@udemyttstorage.dfs.core.windows.net"
   ]
  },
  {
   "cell_type": "code",
   "execution_count": 0,
   "metadata": {
    "application/vnd.databricks.v1+cell": {
     "cellMetadata": {
      "byteLimit": 2048000,
      "rowLimit": 10000
     },
     "inputWidgets": {},
     "nuid": "23e5e59b-9a0a-4f5e-acb9-5f41855ec4b5",
     "showTitle": false,
     "tableResultSettingsMap": {},
     "title": ""
    }
   },
   "outputs": [],
   "source": [
    "CREATE CATALOG IF NOT EXISTS circuitbox\n",
    "MANAGED LOCATION 'abfss://circuitbox@udemyttstorage.dfs.core.windows.net/'\n",
    "COMMENT 'Catalog for the circuitbox data lakehouse'"
   ]
  },
  {
   "cell_type": "markdown",
   "metadata": {
    "application/vnd.databricks.v1+cell": {
     "cellMetadata": {},
     "inputWidgets": {},
     "nuid": "5418a195-6628-4228-8746-f76443f79e86",
     "showTitle": false,
     "tableResultSettingsMap": {},
     "title": ""
    }
   },
   "source": [
    "3. Create Schemas\n",
    "  * Schema Name: landing \\\n",
    "    _Managed Location: 'abfss://circuitbox@udemyttstorage.dfs.core.windows.net/landing'_\n",
    "  * Schema Name: lakehouse \\\n",
    "    _Managed Location: 'abfss://circuitbox@udemyttstorage.dfs.core.windows.net/lakehouse'_"
   ]
  },
  {
   "cell_type": "code",
   "execution_count": 0,
   "metadata": {
    "application/vnd.databricks.v1+cell": {
     "cellMetadata": {
      "byteLimit": 2048000,
      "rowLimit": 10000
     },
     "inputWidgets": {},
     "nuid": "42a16c38-9255-4514-9221-9946ab2107f8",
     "showTitle": false,
     "tableResultSettingsMap": {},
     "title": ""
    }
   },
   "outputs": [],
   "source": [
    "CREATE SCHEMA IF NOT EXISTS landing\n",
    "MANAGED LOCATION 'abfss://circuitbox@udemyttstorage.dfs.core.windows.net/landing';\n",
    "\n",
    "CREATE SCHEMA IF NOT EXISTS lakehouse\n",
    "MANAGED LOCATION 'abfss://circuitbox@udemyttstorage.dfs.core.windows.net/lakehouse'"
   ]
  },
  {
   "cell_type": "code",
   "execution_count": 0,
   "metadata": {
    "application/vnd.databricks.v1+cell": {
     "cellMetadata": {
      "byteLimit": 2048000,
      "rowLimit": 10000
     },
     "inputWidgets": {},
     "nuid": "600d4f6b-f13e-4072-9e6f-5bf59b18c4c4",
     "showTitle": false,
     "tableResultSettingsMap": {},
     "title": ""
    }
   },
   "outputs": [],
   "source": [
    "SHOW DATABASES;"
   ]
  },
  {
   "cell_type": "markdown",
   "metadata": {
    "application/vnd.databricks.v1+cell": {
     "cellMetadata": {},
     "inputWidgets": {},
     "nuid": "3953e637-8724-489d-9806-596f7beb1686",
     "showTitle": false,
     "tableResultSettingsMap": {},
     "title": ""
    }
   },
   "source": [
    "4. Create Volume\n",
    "\n",
    "_**Volume Name**: operational_data \\\n",
    "**ADLS Path**: 'abfss://circuitbox@udemyttstorage.dfs.core.windows.net/landing/operational_data'_"
   ]
  },
  {
   "cell_type": "code",
   "execution_count": 0,
   "metadata": {
    "application/vnd.databricks.v1+cell": {
     "cellMetadata": {
      "byteLimit": 2048000,
      "rowLimit": 10000
     },
     "inputWidgets": {},
     "nuid": "020ba9a7-7134-4d95-8cfb-d8878e0f1801",
     "showTitle": false,
     "tableResultSettingsMap": {},
     "title": ""
    }
   },
   "outputs": [],
   "source": [
    "-- Unity Catalog Volumes must be enabled for this operaiton to work.\n",
    "\n",
    "USE SCHEMA landing;\n",
    "\n",
    "CREATE VOLUME IF NOT EXISTS operational_data\n",
    "LOCATION 'abfss://circuitbox@udemyttstorage.dfs.core.windows.net/landing/operational_data';"
   ]
  },
  {
   "cell_type": "markdown",
   "metadata": {
    "application/vnd.databricks.v1+cell": {
     "cellMetadata": {},
     "inputWidgets": {},
     "nuid": "9a02d4aa-17cc-4bd4-987e-3b5433bd149d",
     "showTitle": false,
     "tableResultSettingsMap": {},
     "title": ""
    }
   },
   "source": [
    "Since Unity Catalog is not enabled, the work around option is to use the mount point instead of volume."
   ]
  },
  {
   "cell_type": "code",
   "execution_count": 0,
   "metadata": {
    "application/vnd.databricks.v1+cell": {
     "cellMetadata": {
      "byteLimit": 2048000,
      "rowLimit": 10000
     },
     "collapsed": true,
     "inputWidgets": {},
     "nuid": "3cf0f45d-78e4-4314-b163-dc2d46f10a44",
     "showTitle": false,
     "tableResultSettingsMap": {},
     "title": ""
    }
   },
   "outputs": [],
   "source": [
    "%run ../utils/utils"
   ]
  },
  {
   "cell_type": "code",
   "execution_count": 0,
   "metadata": {
    "application/vnd.databricks.v1+cell": {
     "cellMetadata": {
      "byteLimit": 2048000,
      "rowLimit": 10000
     },
     "inputWidgets": {},
     "nuid": "811c04de-e0f3-493f-abb5-600eea26f6aa",
     "showTitle": false,
     "tableResultSettingsMap": {},
     "title": ""
    }
   },
   "outputs": [],
   "source": [
    "%python\n",
    "circuitbox_mount_point = mount_adls(\"circuitbox\")"
   ]
  },
  {
   "cell_type": "code",
   "execution_count": 0,
   "metadata": {
    "application/vnd.databricks.v1+cell": {
     "cellMetadata": {
      "byteLimit": 2048000,
      "rowLimit": 10000
     },
     "inputWidgets": {},
     "nuid": "2f401df9-9233-444b-9e6d-4179e5ffc0e0",
     "showTitle": false,
     "tableResultSettingsMap": {},
     "title": ""
    }
   },
   "outputs": [],
   "source": [
    "%fs ls 'mnt/circuitbox/landing/operational_data'"
   ]
  }
 ],
 "metadata": {
  "application/vnd.databricks.v1+notebook": {
   "computePreferences": null,
   "dashboards": [],
   "environmentMetadata": {
    "base_environment": "",
    "environment_version": "2"
   },
   "inputWidgetPreferences": null,
   "language": "sql",
   "notebookMetadata": {
    "mostRecentlyExecutedCommandWithImplicitDF": {
     "commandId": 8269505658528938,
     "dataframes": [
      "_sqldf"
     ]
    },
    "pythonIndentUnit": 4
   },
   "notebookName": "01. setup project environment",
   "widgets": {}
  },
  "language_info": {
   "name": "sql"
  }
 },
 "nbformat": 4,
 "nbformat_minor": 0
}
