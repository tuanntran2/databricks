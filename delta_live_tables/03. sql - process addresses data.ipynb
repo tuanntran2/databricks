{
 "cells": [
  {
   "cell_type": "markdown",
   "metadata": {
    "application/vnd.databricks.v1+cell": {
     "cellMetadata": {},
     "inputWidgets": {},
     "nuid": "f8d2e136-8b41-498a-b001-2106aec9a4c8",
     "showTitle": false,
     "tableResultSettingsMap": {},
     "title": ""
    }
   },
   "source": [
    "# Process the Addresses Data\n",
    "1. Ingest the data into the data lakehouse - bronze_addresses\n",
    "2. Perform data quality checks and transform the data as requied - silver_addresses_clean\n",
    "3. Apply changes to the addresses data - silver_addresses"
   ]
  },
  {
   "cell_type": "markdown",
   "metadata": {
    "application/vnd.databricks.v1+cell": {
     "cellMetadata": {
      "byteLimit": 2048000,
      "rowLimit": 10000
     },
     "inputWidgets": {},
     "nuid": "1bf0bb7c-0a81-4736-80b4-50a8c8a561c2",
     "showTitle": false,
     "tableResultSettingsMap": {},
     "title": ""
    }
   },
   "source": [
    "1. Ingest the data into the data lakehouse - bronze_addresses"
   ]
  },
  {
   "cell_type": "code",
   "execution_count": 0,
   "metadata": {
    "application/vnd.databricks.v1+cell": {
     "cellMetadata": {
      "byteLimit": 2048000,
      "rowLimit": 10000
     },
     "inputWidgets": {},
     "nuid": "21e1b2aa-2f92-4efb-a9b6-42cf5f9950d6",
     "showTitle": false,
     "tableResultSettingsMap": {},
     "title": ""
    }
   },
   "outputs": [],
   "source": [
    "-- This operation requires unity catalog\n",
    "\n",
    "CREATE OR REFRESH STREAMING TABLE bronze_addresses\n",
    "COMMENT 'Raw addresses data ingested from the source system operational data'\n",
    "TBLPROPERTIES ('quality' = 'bronze')\n",
    "AS\n",
    "SELECT\n",
    "  *,\n",
    "  _metadata.file_path AS input_file_path,\n",
    "  CURRENT_TIMESTAMP AS ingestion_timestamp\n",
    "FROM cloud_files(\n",
    "  '/Volumes/circuitbox/landing/operational_data/addresses',\n",
    "  'csv',\n",
    "  map('cloudFiles.inferColumntypes', 'true')\n",
    ");"
   ]
  },
  {
   "cell_type": "markdown",
   "metadata": {
    "application/vnd.databricks.v1+cell": {
     "cellMetadata": {},
     "inputWidgets": {},
     "nuid": "07d62ec6-aac8-46ff-80dd-c185cfabe6ee",
     "showTitle": false,
     "tableResultSettingsMap": {},
     "title": ""
    }
   },
   "source": [
    "2. Perform data quality checks and transform the data as required - silver_addresses_clean"
   ]
  },
  {
   "cell_type": "code",
   "execution_count": 0,
   "metadata": {
    "application/vnd.databricks.v1+cell": {
     "cellMetadata": {},
     "inputWidgets": {},
     "nuid": "11fe2280-f21b-49ff-88b2-9773bae9dd4f",
     "showTitle": false,
     "tableResultSettingsMap": {},
     "title": ""
    }
   },
   "outputs": [],
   "source": [
    "CREATE OR REFRESH STREAMING TABLE silver_addresses_clean(\n",
    "  CONSTRAINT valid_customer_id EXPECT (customer_id IS NOT NULL) ON VIOLATION FAIL UPDATE,\n",
    "  CONSTRAINT valid_address_line_1 EXPECT (address_line_1 IS NOT NULL) ON VIOLATION DROP ROW,\n",
    "  CONSTRAINT valid_postcode EXPECT (LENGTH(postcode) = 5)\n",
    ")\n",
    "COMMENT 'cleaned addresses data'\n",
    "TBLPROPERTIES('quality', 'true')\n",
    "AS\n",
    "SELECT\n",
    "  customer_id,\n",
    "  address_line_1,\n",
    "  city,\n",
    "  state,\n",
    "  postcode,\n",
    "  CAST(created_date AS DATE) AS created_date\n",
    "FROM STREAM(LIVE.bronze_addresses)"
   ]
  },
  {
   "cell_type": "markdown",
   "metadata": {
    "application/vnd.databricks.v1+cell": {
     "cellMetadata": {},
     "inputWidgets": {},
     "nuid": "c655a0ee-dfda-4f56-9e8f-7cb4d586839c",
     "showTitle": false,
     "tableResultSettingsMap": {},
     "title": ""
    }
   },
   "source": [
    "3. Apply changes to the Addresses Data - silver_addresses"
   ]
  },
  {
   "cell_type": "code",
   "execution_count": 0,
   "metadata": {
    "application/vnd.databricks.v1+cell": {
     "cellMetadata": {},
     "inputWidgets": {},
     "nuid": "02790893-5499-458b-a69b-c4ad3bda8b3e",
     "showTitle": false,
     "tableResultSettingsMap": {},
     "title": ""
    }
   },
   "outputs": [],
   "source": [
    "CREATE OR REFRESH STREAMING TABLE silver_addresses\n",
    "COMMENT 'SCD Type 2 addresses data'\n",
    "TBLPROPERTIES(\"quality\" = \"true\")"
   ]
  },
  {
   "cell_type": "code",
   "execution_count": 0,
   "metadata": {
    "application/vnd.databricks.v1+cell": {
     "cellMetadata": {},
     "inputWidgets": {},
     "nuid": "d353b5b3-e0d1-4f44-97d9-15175833449d",
     "showTitle": false,
     "tableResultSettingsMap": {},
     "title": ""
    }
   },
   "outputs": [],
   "source": [
    "APPLY CHANGES INTO LIVE.silver_addresses\n",
    "FROM STREAM(LIVE.silver_addresses_clean)\n",
    "KEYS (customer_id)\n",
    "SEQUENCE BY created_date\n",
    "STORED AS SCD TYPE 2;"
   ]
  }
 ],
 "metadata": {
  "application/vnd.databricks.v1+notebook": {
   "computePreferences": null,
   "dashboards": [],
   "environmentMetadata": {
    "base_environment": "",
    "environment_version": "2"
   },
   "inputWidgetPreferences": null,
   "language": "sql",
   "notebookMetadata": {
    "mostRecentlyExecutedCommandWithImplicitDF": {
     "commandId": 8269505658528943,
     "dataframes": [
      "_sqldf"
     ]
    },
    "pythonIndentUnit": 4
   },
   "notebookName": "03. sql - process addresses data",
   "widgets": {}
  },
  "language_info": {
   "name": "sql"
  }
 },
 "nbformat": 4,
 "nbformat_minor": 0
}
