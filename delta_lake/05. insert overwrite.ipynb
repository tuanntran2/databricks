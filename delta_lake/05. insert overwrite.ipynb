{
 "cells": [
  {
   "cell_type": "markdown",
   "metadata": {
    "application/vnd.databricks.v1+cell": {
     "cellMetadata": {},
     "inputWidgets": {},
     "nuid": "06ff1c04-8706-4d06-8d25-557cdb4cbede",
     "showTitle": false,
     "tableResultSettingsMap": {},
     "title": ""
    }
   },
   "source": [
    "# Insert Overwrite\n",
    "1. Replace all data in a table\n",
    "2. Replace all data from a specific partition\n",
    "3. How to handle schema change"
   ]
  },
  {
   "cell_type": "markdown",
   "metadata": {
    "application/vnd.databricks.v1+cell": {
     "cellMetadata": {},
     "inputWidgets": {},
     "nuid": "c0050866-5a65-4de2-a4d3-2c6a32ede013",
     "showTitle": false,
     "tableResultSettingsMap": {},
     "title": ""
    }
   },
   "source": [
    "**_INSERT OVERWRITE_** - overwrites existing data in a table or specific partition with the new data \\\n",
    "**_INSERT INTO_** - append new data"
   ]
  },
  {
   "cell_type": "markdown",
   "metadata": {
    "application/vnd.databricks.v1+cell": {
     "cellMetadata": {},
     "inputWidgets": {},
     "nuid": "84aece2b-3c76-47b9-a310-91841b64ebc9",
     "showTitle": false,
     "tableResultSettingsMap": {},
     "title": ""
    }
   },
   "source": [
    "1. Replace all data in a table"
   ]
  },
  {
   "cell_type": "code",
   "execution_count": 0,
   "metadata": {
    "application/vnd.databricks.v1+cell": {
     "cellMetadata": {
      "byteLimit": 2048000,
      "rowLimit": 10000
     },
     "inputWidgets": {},
     "nuid": "f8589f58-50eb-4827-bb3f-8f2bbb3ed900",
     "showTitle": false,
     "tableResultSettingsMap": {},
     "title": ""
    }
   },
   "outputs": [],
   "source": [
    "DROP TABLE IF EXISTS delta_lake.test_table;\n",
    "CREATE OR REPLACE TABLE delta_lake.test_table(\n",
    "  id INT,\n",
    "  name STRING,\n",
    "  dob DATE\n",
    ");\n",
    "\n",
    "INSERT INTO delta_lake.test_table\n",
    "(id, name, dob)\n",
    "VALUES\n",
    "(1, 'Tom', '1970-01-01'),\n",
    "(2, 'Tiffany', '1973-01-01'),\n",
    "(3, 'Jeff', '1992-01-01'),\n",
    "(4, 'Jane', '2001-01-01');\n",
    "\n",
    "SELECT * FROM delta_lake.test_table;"
   ]
  },
  {
   "cell_type": "code",
   "execution_count": 0,
   "metadata": {
    "application/vnd.databricks.v1+cell": {
     "cellMetadata": {
      "byteLimit": 2048000,
      "rowLimit": 10000
     },
     "inputWidgets": {},
     "nuid": "3ae8eeb0-eab6-4b13-9a03-8de5c9b6d049",
     "showTitle": false,
     "tableResultSettingsMap": {},
     "title": ""
    }
   },
   "outputs": [],
   "source": [
    "SELECT * FROM delta_lake.test_table2;"
   ]
  },
  {
   "cell_type": "code",
   "execution_count": 0,
   "metadata": {
    "application/vnd.databricks.v1+cell": {
     "cellMetadata": {
      "byteLimit": 2048000,
      "rowLimit": 10000
     },
     "inputWidgets": {},
     "nuid": "22a13170-a2f6-4127-846a-96aa39ab3e5b",
     "showTitle": false,
     "tableResultSettingsMap": {},
     "title": ""
    }
   },
   "outputs": [],
   "source": [
    "INSERT OVERWRITE delta_lake.test_table2\n",
    "SELECT * FROM delta_lake.test_table;"
   ]
  },
  {
   "cell_type": "code",
   "execution_count": 0,
   "metadata": {
    "application/vnd.databricks.v1+cell": {
     "cellMetadata": {
      "byteLimit": 2048000,
      "rowLimit": 10000
     },
     "inputWidgets": {},
     "nuid": "cd64112d-41b6-4c13-935d-4a1dc70e33c3",
     "showTitle": false,
     "tableResultSettingsMap": {},
     "title": ""
    }
   },
   "outputs": [],
   "source": [
    "INSERT INTO delta_lake.test_table2\n",
    "SELECT * FROM delta_lake.test_table;"
   ]
  },
  {
   "cell_type": "code",
   "execution_count": 0,
   "metadata": {
    "application/vnd.databricks.v1+cell": {
     "cellMetadata": {
      "byteLimit": 2048000,
      "rowLimit": 10000
     },
     "inputWidgets": {},
     "nuid": "faaae036-f911-49c2-b9e4-5da8b088014b",
     "showTitle": false,
     "tableResultSettingsMap": {},
     "title": ""
    }
   },
   "outputs": [],
   "source": [
    "desc history delta_lake.test_table2;"
   ]
  },
  {
   "cell_type": "markdown",
   "metadata": {
    "application/vnd.databricks.v1+cell": {
     "cellMetadata": {},
     "inputWidgets": {},
     "nuid": "3278ff17-fc68-4d95-ac29-e8fe10acd00f",
     "showTitle": false,
     "tableResultSettingsMap": {},
     "title": ""
    }
   },
   "source": [
    "2. Replace all data from a specific partition"
   ]
  },
  {
   "cell_type": "code",
   "execution_count": 0,
   "metadata": {
    "application/vnd.databricks.v1+cell": {
     "cellMetadata": {
      "byteLimit": 2048000,
      "rowLimit": 10000
     },
     "inputWidgets": {},
     "nuid": "9f32511b-684e-4871-b152-a3557555eaf8",
     "showTitle": false,
     "tableResultSettingsMap": {},
     "title": ""
    }
   },
   "outputs": [],
   "source": [
    "DROP TABLE IF EXISTS delta_lake.test_table;\n",
    "CREATE OR REPLACE TABLE delta_lake.test_table(\n",
    "  id INT,\n",
    "  name STRING,\n",
    "  gender STRING,\n",
    "  dob DATE\n",
    ")\n",
    "PARTITIONED BY (gender);\n",
    "\n",
    "INSERT INTO delta_lake.test_table\n",
    "(id, name, gender, dob)\n",
    "VALUES\n",
    "(1, 'Tom', 'M', '1970-01-01'),\n",
    "(2, 'Tiffany', 'F', '1973-01-01'),\n",
    "(3, 'Jeff', 'M', '1992-01-01'),\n",
    "(4, 'Jane', 'F', '2001-01-01');\n",
    "\n",
    "SELECT * FROM delta_lake.test_table;"
   ]
  },
  {
   "cell_type": "code",
   "execution_count": 0,
   "metadata": {
    "application/vnd.databricks.v1+cell": {
     "cellMetadata": {
      "byteLimit": 2048000,
      "rowLimit": 10000
     },
     "inputWidgets": {},
     "nuid": "9a21df32-ea5b-4174-a856-45112d952980",
     "showTitle": false,
     "tableResultSettingsMap": {},
     "title": ""
    }
   },
   "outputs": [],
   "source": [
    "desc extended delta_lake.test_table;"
   ]
  },
  {
   "cell_type": "code",
   "execution_count": 0,
   "metadata": {
    "application/vnd.databricks.v1+cell": {
     "cellMetadata": {
      "byteLimit": 2048000,
      "rowLimit": 10000
     },
     "inputWidgets": {},
     "nuid": "f5c2df79-7af9-43d7-bdee-71a9f91d64ce",
     "showTitle": false,
     "tableResultSettingsMap": {},
     "title": ""
    }
   },
   "outputs": [],
   "source": [
    "DROP TABLE IF EXISTS delta_lake.test_table_male;\n",
    "CREATE OR REPLACE TABLE delta_lake.test_table_male(\n",
    "  id INT,\n",
    "  name STRING,\n",
    "  gender STRING,\n",
    "  dob DATE\n",
    ");\n",
    "\n",
    "INSERT INTO delta_lake.test_table_male\n",
    "(id, name, gender, dob)\n",
    "VALUES\n",
    "(10, 'John', 'M', '1980-01-01'),\n",
    "(20, 'Joe', 'M', '1996-01-01'),\n",
    "(30, 'Tim', 'M', '2012-01-01'),\n",
    "(40, 'Ted', 'M', '2011-01-01');\n",
    "\n",
    "SELECT * FROM delta_lake.test_table_male;"
   ]
  },
  {
   "cell_type": "code",
   "execution_count": 0,
   "metadata": {
    "application/vnd.databricks.v1+cell": {
     "cellMetadata": {
      "byteLimit": 2048000,
      "rowLimit": 10000
     },
     "inputWidgets": {},
     "nuid": "618c6426-4f79-42be-8259-2a37480d23aa",
     "showTitle": false,
     "tableResultSettingsMap": {},
     "title": ""
    }
   },
   "outputs": [],
   "source": [
    "SELECT * FROM delta_lake.test_table;"
   ]
  },
  {
   "cell_type": "code",
   "execution_count": 0,
   "metadata": {
    "application/vnd.databricks.v1+cell": {
     "cellMetadata": {
      "byteLimit": 2048000,
      "rowLimit": 10000
     },
     "inputWidgets": {},
     "nuid": "5c57e05d-f29f-4215-838d-f2d91726fcb9",
     "showTitle": false,
     "tableResultSettingsMap": {},
     "title": ""
    }
   },
   "outputs": [],
   "source": [
    "INSERT OVERWRITE TABLE delta_lake.test_table\n",
    "PARTITION(gender=\"M\")\n",
    "SELECT \n",
    "  id,\n",
    "  name,\n",
    "  dob\n",
    "FROM delta_lake.test_table_male;"
   ]
  },
  {
   "cell_type": "code",
   "execution_count": 0,
   "metadata": {
    "application/vnd.databricks.v1+cell": {
     "cellMetadata": {
      "byteLimit": 2048000,
      "rowLimit": 10000
     },
     "inputWidgets": {},
     "nuid": "6574aa2f-68fc-47ab-88db-39802d3ca370",
     "showTitle": false,
     "tableResultSettingsMap": {},
     "title": ""
    }
   },
   "outputs": [],
   "source": [
    "desc history delta_lake.test_table;"
   ]
  },
  {
   "cell_type": "code",
   "execution_count": 0,
   "metadata": {
    "application/vnd.databricks.v1+cell": {
     "cellMetadata": {
      "byteLimit": 2048000,
      "rowLimit": 10000
     },
     "inputWidgets": {},
     "nuid": "b133ae59-fb46-42e1-99d6-63f90f73f2ee",
     "showTitle": false,
     "tableResultSettingsMap": {},
     "title": ""
    }
   },
   "outputs": [],
   "source": [
    "RESTORE TABLE delta_lake.test_table\n",
    "version as of 1;"
   ]
  },
  {
   "cell_type": "code",
   "execution_count": 0,
   "metadata": {
    "application/vnd.databricks.v1+cell": {
     "cellMetadata": {
      "byteLimit": 2048000,
      "rowLimit": 10000
     },
     "inputWidgets": {},
     "nuid": "61eab091-9713-40a9-bf20-c4033a769bd3",
     "showTitle": false,
     "tableResultSettingsMap": {},
     "title": ""
    }
   },
   "outputs": [],
   "source": [
    "SELECT * FROM delta_lake.test_table;"
   ]
  },
  {
   "cell_type": "code",
   "execution_count": 0,
   "metadata": {
    "application/vnd.databricks.v1+cell": {
     "cellMetadata": {
      "byteLimit": 2048000,
      "rowLimit": 10000
     },
     "inputWidgets": {},
     "nuid": "416005dc-ff12-4c9e-ae37-93aa68d930a8",
     "showTitle": false,
     "tableResultSettingsMap": {},
     "title": ""
    }
   },
   "outputs": [],
   "source": [
    "INSERT INTO TABLE delta_lake.test_table\n",
    "--PARTITION(gender=\"M\")\n",
    "SELECT *\n",
    "--  id,\n",
    "--  name,\n",
    "--  dob\n",
    "FROM delta_lake.test_table_male;"
   ]
  },
  {
   "cell_type": "markdown",
   "metadata": {
    "application/vnd.databricks.v1+cell": {
     "cellMetadata": {},
     "inputWidgets": {},
     "nuid": "e96c4356-85c5-4524-8ece-1904bbddce98",
     "showTitle": false,
     "tableResultSettingsMap": {},
     "title": ""
    }
   },
   "source": [
    "3. How to handle schema changes"
   ]
  },
  {
   "cell_type": "markdown",
   "metadata": {
    "application/vnd.databricks.v1+cell": {
     "cellMetadata": {},
     "inputWidgets": {},
     "nuid": "c5b181eb-7d09-42a4-8efa-7de35dfbcf24",
     "showTitle": false,
     "tableResultSettingsMap": {},
     "title": ""
    }
   },
   "source": [
    "Insert Overwrite -> Overwrite data in the table or partition when there is no schema change\n",
    "Create or replace table -> When there are schema changes"
   ]
  }
 ],
 "metadata": {
  "application/vnd.databricks.v1+notebook": {
   "computePreferences": null,
   "dashboards": [],
   "environmentMetadata": {
    "base_environment": "",
    "environment_version": "2"
   },
   "inputWidgetPreferences": null,
   "language": "sql",
   "notebookMetadata": {
    "pythonIndentUnit": 4
   },
   "notebookName": "05. insert overwrite",
   "widgets": {}
  },
  "language_info": {
   "name": "sql"
  }
 },
 "nbformat": 4,
 "nbformat_minor": 0
}
