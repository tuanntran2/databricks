{
 "cells": [
  {
   "cell_type": "markdown",
   "metadata": {
    "application/vnd.databricks.v1+cell": {
     "cellMetadata": {},
     "inputWidgets": {},
     "nuid": "9d73419e-3700-4f53-b993-ce6d707d0950",
     "showTitle": false,
     "tableResultSettingsMap": {},
     "title": ""
    }
   },
   "source": [
    "# Create Customer Order Summary\n",
    "1. Join the tables silver_customers, silver_addresses, and silver_orders\n",
    "2. Retrieve the latest address of the customer\n",
    "3. Calculate the following values\n",
    "  * total_order\n",
    "  * total_items_ordered\n",
    "  * total_order_amount"
   ]
  },
  {
   "cell_type": "code",
   "execution_count": 0,
   "metadata": {
    "application/vnd.databricks.v1+cell": {
     "cellMetadata": {},
     "inputWidgets": {},
     "nuid": "a222c798-5aed-4dd5-a5f7-a0e7d7ff8686",
     "showTitle": false,
     "tableResultSettingsMap": {},
     "title": ""
    }
   },
   "outputs": [],
   "source": [
    "%sql\n",
    "CREATE OR REFRESH MATERIALIZED VIEW gold_customer_order_summary\n",
    "AS\n",
    "SELECT\n",
    "  c.customer_id,\n",
    "  c.customer_name,\n",
    "  c.date_of_birth,\n",
    "  c.telephone,\n",
    "  c.address_line_1,\n",
    "  c.tity,\n",
    "  c.state,\n",
    "  c.postcode,\n",
    "  COUNT(DISTINCT o.order_id) AS total_orders,\n",
    "  SUM(o.item_quantity) AS total_items_ordered,\n",
    "  SUM(o.item_quanity * o.item_price) AS total_order_amount\n",
    "FROM LIVE.silver_customers c\n",
    "JOIN LIVE.silver_addresses a ON c.customer_id = a.customer_id\n",
    "JOIN Live.silver_orders o ON c.customer_id = o.customer_id\n",
    "WHERE a.__END_AT IS NULL\n",
    "GROUP BY ALL;"
   ]
  }
 ],
 "metadata": {
  "application/vnd.databricks.v1+notebook": {
   "computePreferences": null,
   "dashboards": [],
   "environmentMetadata": {
    "base_environment": "",
    "environment_version": "2"
   },
   "inputWidgetPreferences": null,
   "language": "python",
   "notebookMetadata": {
    "pythonIndentUnit": 4
   },
   "notebookName": "05. create customer order summary",
   "widgets": {}
  },
  "language_info": {
   "name": "python"
  }
 },
 "nbformat": 4,
 "nbformat_minor": 0
}
