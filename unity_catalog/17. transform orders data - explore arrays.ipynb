{
 "cells": [
  {
   "cell_type": "markdown",
   "metadata": {
    "application/vnd.databricks.v1+cell": {
     "cellMetadata": {},
     "inputWidgets": {},
     "nuid": "57bde5ab-7d4e-4a35-9fe4-73d6a8f8947b",
     "showTitle": false,
     "tableResultSettingsMap": {},
     "title": ""
    }
   },
   "source": [
    "# Transform Orders Data - Explode Array\n",
    "1. Access elements from the JSON object\n",
    "2. Deduplicate array elements\n",
    "3. Explode arrays\n",
    "4. Write the transformed data to Silver schema"
   ]
  },
  {
   "cell_type": "code",
   "execution_count": 0,
   "metadata": {
    "application/vnd.databricks.v1+cell": {
     "cellMetadata": {},
     "inputWidgets": {},
     "nuid": "ecbb4c20-ddc1-4cc1-a3d5-34d7996753fb",
     "showTitle": false,
     "tableResultSettingsMap": {},
     "title": ""
    }
   },
   "outputs": [],
   "source": [
    "SELECT *\n",
    "FROM udemyttstorage_catalog.silver.orders_json;"
   ]
  },
  {
   "cell_type": "markdown",
   "metadata": {
    "application/vnd.databricks.v1+cell": {
     "cellMetadata": {},
     "inputWidgets": {},
     "nuid": "c9bc79e9-d284-48d8-894e-1ebab8d592e1",
     "showTitle": false,
     "tableResultSettingsMap": {},
     "title": ""
    }
   },
   "source": [
    "1. Access elements from the JSON object"
   ]
  },
  {
   "cell_type": "code",
   "execution_count": 0,
   "metadata": {
    "application/vnd.databricks.v1+cell": {
     "cellMetadata": {},
     "inputWidgets": {},
     "nuid": "7ab99cc3-6539-4d31-9993-25da34147c98",
     "showTitle": false,
     "tableResultSettingsMap": {},
     "title": ""
    }
   },
   "outputs": [],
   "source": [
    "SELECT \n",
    "    json_value.order_id,\n",
    "    json_value.order_status,\n",
    "    json_value.order_status,\n",
    "    json_value.payment_method,\n",
    "    json_value.total_amount,\n",
    "    json_value.transaction_timestamp,\n",
    "    json_value.customer_id,\n",
    "    json_value.items\n",
    "FROM udemyttstorage_catalog.silver.orders_json;"
   ]
  },
  {
   "cell_type": "markdown",
   "metadata": {
    "application/vnd.databricks.v1+cell": {
     "cellMetadata": {},
     "inputWidgets": {},
     "nuid": "d5b4b62f-ad75-45ec-9c4c-8462d3a76a89",
     "showTitle": false,
     "tableResultSettingsMap": {},
     "title": ""
    }
   },
   "source": [
    "2. Deduplicate array elements\\\n",
    "  [Documentation for array_distinct](https://learn.microsoft.com/en-us/azure/databricks/sql/language-manual/functions/array_distinct)"
   ]
  },
  {
   "cell_type": "code",
   "execution_count": 0,
   "metadata": {
    "application/vnd.databricks.v1+cell": {
     "cellMetadata": {},
     "inputWidgets": {},
     "nuid": "a9199a58-231d-4b70-b394-30458dd48811",
     "showTitle": false,
     "tableResultSettingsMap": {},
     "title": ""
    }
   },
   "outputs": [],
   "source": [
    "%sql\n",
    "SELECT \n",
    "    json_value.order_id,\n",
    "    json_value.order_status,\n",
    "    json_value.order_status,\n",
    "    json_value.payment_method,\n",
    "    json_value.total_amount,\n",
    "    json_value.transaction_timestamp,\n",
    "    json_value.customer_id,\n",
    "    array_distinct(json_value.items) AS items\n",
    "FROM udemyttstorage_catalog.silver.orders_json;"
   ]
  },
  {
   "cell_type": "markdown",
   "metadata": {
    "application/vnd.databricks.v1+cell": {
     "cellMetadata": {},
     "inputWidgets": {},
     "nuid": "0d63bbe9-778b-4029-93e5-18540823ece2",
     "showTitle": false,
     "tableResultSettingsMap": {},
     "title": ""
    }
   },
   "source": [
    "3. Explode arrays \\\n",
    "  [Documentation for explode](https://learn.microsoft.com/en-us/azure/databricks/sql/language-manual/functions/explode)"
   ]
  },
  {
   "cell_type": "code",
   "execution_count": 0,
   "metadata": {
    "application/vnd.databricks.v1+cell": {
     "cellMetadata": {
      "byteLimit": 2048000,
      "implicitDf": true,
      "rowLimit": 10000
     },
     "inputWidgets": {},
     "nuid": "cfdb0fb2-3ef4-408e-bda5-170416a08b99",
     "showTitle": false,
     "tableResultSettingsMap": {},
     "title": ""
    }
   },
   "outputs": [],
   "source": [
    "%sql\n",
    "SELECT \n",
    "    json_value.order_id,\n",
    "    json_value.order_status,\n",
    "    json_value.order_status,\n",
    "    json_value.payment_method,\n",
    "    json_value.total_amount,\n",
    "    json_value.transaction_timestamp,\n",
    "    json_value.customer_id,\n",
    "    explode(array_distinct(json_value.items)) AS item\n",
    "FROM silver.orders_json;"
   ]
  },
  {
   "cell_type": "code",
   "execution_count": 0,
   "metadata": {
    "application/vnd.databricks.v1+cell": {
     "cellMetadata": {},
     "inputWidgets": {},
     "nuid": "cc3b0121-cc4e-44e6-95b9-918003308662",
     "showTitle": false,
     "tableResultSettingsMap": {},
     "title": ""
    }
   },
   "outputs": [],
   "source": [
    "%sql\n",
    "CREATE OR REPLACE TEMP VIEW orders_temp_view\n",
    "AS\n",
    "SELECT \n",
    "    json_value.order_id,\n",
    "    json_value.order_status,\n",
    "    json_value.payment_method,\n",
    "    json_value.total_amount,\n",
    "    json_value.transaction_timestamp,\n",
    "    json_value.customer_id,\n",
    "    explode(array_distinct(json_value.items)) AS item\n",
    "FROM silver.orders_json;"
   ]
  },
  {
   "cell_type": "code",
   "execution_count": 0,
   "metadata": {
    "application/vnd.databricks.v1+cell": {
     "cellMetadata": {},
     "inputWidgets": {},
     "nuid": "586e0251-b187-45c6-8562-43abced11c0b",
     "showTitle": false,
     "tableResultSettingsMap": {},
     "title": ""
    }
   },
   "outputs": [],
   "source": [
    "%sql\n",
    "SELECT\n",
    "  order_id,\n",
    "  order_status\n",
    "  payment_method,\n",
    "  total_amount,\n",
    "  transaction_timestamp,\n",
    "  customer_id,\n",
    "  item.category,\n",
    "  item.details.brand,\n",
    "  item.details.color,\n",
    "  item.item_id,\n",
    "  item.name,\n",
    "  item.price,\n",
    "  item.quantity\n",
    "FROM orders_temp_view;"
   ]
  },
  {
   "cell_type": "markdown",
   "metadata": {
    "application/vnd.databricks.v1+cell": {
     "cellMetadata": {},
     "inputWidgets": {},
     "nuid": "77674d10-0ce2-4f40-8fc7-5fae5512c6b8",
     "showTitle": false,
     "tableResultSettingsMap": {},
     "title": ""
    }
   },
   "source": [
    "4. Write the transformed data to Silver schema"
   ]
  },
  {
   "cell_type": "code",
   "execution_count": 0,
   "metadata": {
    "application/vnd.databricks.v1+cell": {
     "cellMetadata": {},
     "inputWidgets": {},
     "nuid": "6d896405-2461-400a-869f-b266f400a8b5",
     "showTitle": false,
     "tableResultSettingsMap": {},
     "title": ""
    }
   },
   "outputs": [],
   "source": [
    "%sql\n",
    "CREATE OR REPLACE TABLE udemyttstorage_catalog.silver.orders\n",
    "AS\n",
    "SELECT\n",
    "  order_id,\n",
    "  order_status\n",
    "  payment_method,\n",
    "  total_amount,\n",
    "  transaction_timestamp,\n",
    "  customer_id,\n",
    "  item.category,\n",
    "  item.details.brand,\n",
    "  item.details.color,\n",
    "  item.item_id,\n",
    "  item.name,\n",
    "  item.price,\n",
    "  item.quantity\n",
    "FROM orders_temp_view;"
   ]
  }
 ],
 "metadata": {
  "application/vnd.databricks.v1+notebook": {
   "computePreferences": null,
   "dashboards": [],
   "environmentMetadata": null,
   "inputWidgetPreferences": null,
   "language": "python",
   "notebookMetadata": {
    "mostRecentlyExecutedCommandWithImplicitDF": {
     "commandId": 7040316125006461,
     "dataframes": [
      "_sqldf"
     ]
    },
    "pythonIndentUnit": 4
   },
   "notebookName": "17. transform orders data - explore arrays",
   "widgets": {}
  },
  "kernelspec": {
   "display_name": "Python 3 (ipykernel)",
   "language": "python",
   "name": "python3"
  },
  "language_info": {
   "name": "python"
  }
 },
 "nbformat": 4,
 "nbformat_minor": 0
}
