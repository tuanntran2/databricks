{
 "cells": [
  {
   "cell_type": "markdown",
   "id": "760ba61e-2c93-4a49-abff-3681e4fe7c47",
   "metadata": {},
   "source": [
    "# Transform customer Data\n",
    "1. Remove records with NULL customer_id\n",
    "2. Remove exact duplicate records\n",
    "3. Remove duplicate records based on created_timestamp\n",
    "4. CAST the columns to the correct Data Types\n",
    "5. Write transformed data ot the Silver schema"
   ]
  },
  {
   "cell_type": "markdown",
   "id": "40615dbe-f21d-411c-b338-273dab1e38d9",
   "metadata": {},
   "source": [
    "1. Remove records with NULL customer_id"
   ]
  },
  {
   "cell_type": "raw",
   "id": "adfe3f25-0dbe-45db-8480-81523a05dc86",
   "metadata": {},
   "source": [
    "SELECT *\n",
    "FROM udemyttstorage_catalog.bronze.customers_view\n",
    "WHERE customer_id IS NOT NULL;"
   ]
  },
  {
   "cell_type": "markdown",
   "id": "f9e96ba6-b3ca-4634-957a-db15713ecd02",
   "metadata": {},
   "source": [
    "2. Remove exact duplicate records"
   ]
  },
  {
   "cell_type": "code",
   "execution_count": null,
   "id": "04e4844b-c48b-4beb-89b6-d50ae48eb6ba",
   "metadata": {},
   "outputs": [],
   "source": [
    "SELECT DISTINCT *\n",
    "FROM udemyttstorage_catalog.bronze.customers_view\n",
    "WHERE customer_id IS NOT NULL\n",
    "ORDER BY customer_id;"
   ]
  },
  {
   "cell_type": "markdown",
   "id": "9576212e-ea39-4be6-be74-a9afe54b4bbe",
   "metadata": {},
   "source": [
    "3. Remove duplicate records based on created_timestamp"
   ]
  },
  {
   "cell_type": "code",
   "execution_count": null,
   "id": "ecc64c33-a4fe-4f97-98dd-fea11a6bb958",
   "metadata": {},
   "outputs": [],
   "source": [
    "CREATE OR REPLACE TEMP VIEW distinct_customers_view\n",
    "AS\n",
    "SELECT DISTINCT *\n",
    "FROM udemyttstorage_catalog.bronze.customers_view\n",
    "WHERE customer_id IS NOT NULL\n",
    "ORDER BY customer_id;"
   ]
  },
  {
   "cell_type": "code",
   "execution_count": null,
   "id": "acb3899a-56e7-4e7c-9dd1-aa41f172941e",
   "metadata": {},
   "outputs": [],
   "source": [
    "SELECT customer, MAX(created_timestamp) AS max_created_timestamp\n",
    "FROM distinct_customers_view\n",
    "GROUP BY customer_id;"
   ]
  },
  {
   "cell_type": "code",
   "execution_count": null,
   "id": "29d33479-e107-4d24-b4f9-7445090ce062",
   "metadata": {},
   "outputs": [],
   "source": [
    "WITH cte_max AS\n",
    "(\n",
    "    SELECT\n",
    "        customer_id\n",
    "        MAX(created_timestamp) as max_created_timestamp\n",
    "    FROM distinct_customer_view\n",
    "    GROUP BY customer_id\n",
    ")\n",
    "SELECT\n",
    "FROM distinct_customer_view t\n",
    "JOIN cte_max m\n",
    "    ON t.customer_id = m.customer_id\n",
    "    AND t.created_timestamp = m.created_timestamp; "
   ]
  },
  {
   "cell_type": "markdown",
   "id": "c592b859-4637-4cb3-98ef-b71c5c2d5d71",
   "metadata": {},
   "source": [
    "4. CAST the columns to the correct Data Types"
   ]
  },
  {
   "cell_type": "code",
   "execution_count": null,
   "id": "ac9a1225-1dc7-4eed-9f68-9c0dc3f7510a",
   "metadata": {},
   "outputs": [],
   "source": [
    "WITH cte_max AS\n",
    "(\n",
    "    SELECT\n",
    "        customer_id\n",
    "        MAX(created_timestamp) as max_created_timestamp\n",
    "    FROM distinct_customer_view\n",
    "    GROUP BY customer_id\n",
    ")\n",
    "SELECT\n",
    "    CAST(t.created_timestamp AS TIMESTAMP) AS max_created_timestamp,\n",
    "    t.customer_id,\n",
    "    t.customer_name,\n",
    "    CAST(t.date_of_birth AS DATE) as date_of_birth,\n",
    "    t.email,\n",
    "    CAST(t.member_since AS DATE) AS member_since,\n",
    "    t.telephone\n",
    "FROM distinct_customer_view t\n",
    "JOIN cte_max m\n",
    "    ON t.customer_id = m.customer_id\n",
    "    AND t.created_timestamp = m.created_timestamp; "
   ]
  },
  {
   "cell_type": "markdown",
   "id": "b36d49c1-7459-4def-8219-5bd053285c9a",
   "metadata": {},
   "source": [
    "5. Write transformed data ot the Silver schema"
   ]
  },
  {
   "cell_type": "code",
   "execution_count": null,
   "id": "5310f10b-42b3-401c-aeb3-e197917ddd05",
   "metadata": {},
   "outputs": [],
   "source": [
    "CREATE OR REPLACE TABLE udemyttstorage_catalog.silver..customers\n",
    "AS\n",
    "WITH cte_max AS\n",
    "    (\n",
    "        SELECT\n",
    "            customer_id\n",
    "            MAX(created_timestamp) as max_created_timestamp\n",
    "        FROM distinct_customer_view\n",
    "        GROUP BY customer_id\n",
    "    )\n",
    "    SELECT\n",
    "        CAST(t.created_timestamp AS TIMESTAMP) AS max_created_timestamp,\n",
    "        t.customer_id,\n",
    "        t.customer_name,\n",
    "        CAST(t.date_of_birth AS DATE) as date_of_birth,\n",
    "        t.email,\n",
    "        CAST(t.member_since AS DATE) AS member_since,\n",
    "        t.telephone\n",
    "    FROM distinct_customer_view t\n",
    "    JOIN cte_max m\n",
    "        ON t.customer_id = m.customer_id\n",
    "        AND t.created_timestamp = m.created_timestamp; "
   ]
  },
  {
   "cell_type": "code",
   "execution_count": null,
   "id": "09167167-bf0e-4969-96ba-36f98ab6768a",
   "metadata": {},
   "outputs": [],
   "source": []
  }
 ],
 "metadata": {
  "kernelspec": {
   "display_name": "Python 3 (ipykernel)",
   "language": "python",
   "name": "python3"
  },
  "language_info": {
   "codemirror_mode": {
    "name": "ipython",
    "version": 3
   },
   "file_extension": ".py",
   "mimetype": "text/x-python",
   "name": "python",
   "nbconvert_exporter": "python",
   "pygments_lexer": "ipython3",
   "version": "3.13.3"
  }
 },
 "nbformat": 4,
 "nbformat_minor": 5
}
