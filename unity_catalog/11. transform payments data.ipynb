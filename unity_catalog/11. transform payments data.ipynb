{
 "cells": [
  {
   "cell_type": "markdown",
   "id": "111bfb26-a5bc-4020-8bac-abce5100b427",
   "metadata": {},
   "source": [
    "# Transform Payments Data\n",
    "1. Extract date & time from payment_timestamp and create new columns payment_date and payment_time\n",
    "2. Map payment_status to contain description values\n",
    "   * 1 - Success\n",
    "   * 2 - Pending\n",
    "   * 3 - Cancelled\n",
    "   * 4 - Failed\n",
    "3. Write transformed data to the Silver Schema"
   ]
  },
  {
   "cell_type": "markdown",
   "id": "fa21b4d1-4fc3-4bed-aab1-6f9b91746d7b",
   "metadata": {},
   "source": [
    "1. Extract date & time from payment_timestamp \\\n",
    "   [Documentation for date format function](https://learn.microsoft.com/en-us/azure/databricks/sql/language-manual/functions/date_format)"
   ]
  },
  {
   "cell_type": "code",
   "execution_count": null,
   "id": "74dc437a-0703-445b-bb9f-d188cba46d2a",
   "metadata": {},
   "outputs": [],
   "source": [
    "SELECT\n",
    "    payment_id,\n",
    "    order_id,\n",
    "    CAST(date_format(payment_timestamp, 'yyyy-MM-dd') AS DATE) AS payment_date,\n",
    "    date_format(payment_timestamp, 'HH:mm:ss') as payment_time,\n",
    "    payment_status,\n",
    "    payment_method\n",
    "FROM udemyttstorage_catalog.bronze.payments;\n"
   ]
  },
  {
   "cell_type": "markdown",
   "id": "3ee71e7a-9153-41f0-ad2f-b5b6e9bb184f",
   "metadata": {},
   "source": [
    "2. Map payment_status to contain descriptive values \\\n",
    "   [Documentation for case expression](https://learn.microsoft.com/en-us/azure/databricks/sql/language-manual/functions/case)"
   ]
  },
  {
   "cell_type": "code",
   "execution_count": null,
   "id": "e9e4d21f-02e8-493a-bda6-aaadff1b47ed",
   "metadata": {},
   "outputs": [],
   "source": [
    "SELECT\n",
    "    payment_id,\n",
    "    order_id,\n",
    "    CAST(date_format(payment_timestamp, 'yyyy-MM-dd') AS DATE) AS payment_date,\n",
    "    date_format(payment_timestamp, 'HH:mm:ss') as payment_time,\n",
    "    CASE payment_status\n",
    "        WHEN 1 THEN 'Success'\n",
    "        WHEN 2 THEN 'Pending'\n",
    "        WHEN 3 THEN 'Cancelled'\n",
    "        WHEN 4 THEN 'Failed'\n",
    "    END AS payment_status\n",
    "    payment_method\n",
    "FROM udemyttstorage_catalog.bronze.payments;"
   ]
  },
  {
   "cell_type": "markdown",
   "id": "e662eca9-d056-4eb8-b32b-83bd91f1234b",
   "metadata": {},
   "source": [
    "3. Write transformed data to the Silver schema"
   ]
  },
  {
   "cell_type": "code",
   "execution_count": null,
   "id": "abfdcea6-07ec-4eed-b930-7b9271adea36",
   "metadata": {},
   "outputs": [],
   "source": [
    "CREATE OR REPLACE TABLE udemyttstorage_catalog.silver.payments\n",
    "AS\n",
    "SELECT\n",
    "    payment_id,\n",
    "    order_id,\n",
    "    CAST(date_format(payment_timestamp, 'yyyy-MM-dd') AS DATE) AS payment_date,\n",
    "    date_format(payment_timestamp, 'HH:mm:ss') as payment_time,\n",
    "    CASE payment_status\n",
    "        WHEN 1 THEN 'Success'\n",
    "        WHEN 2 THEN 'Pending'\n",
    "        WHEN 3 THEN 'Cancelled'\n",
    "        WHEN 4 THEN 'Failed'\n",
    "    END AS payment_status\n",
    "    payment_method\n",
    "FROM udemyttstorage_catalog.bronze.payments;"
   ]
  }
 ],
 "metadata": {
  "kernelspec": {
   "display_name": "Python 3 (ipykernel)",
   "language": "python",
   "name": "python3"
  },
  "language_info": {
   "codemirror_mode": {
    "name": "ipython",
    "version": 3
   },
   "file_extension": ".py",
   "mimetype": "text/x-python",
   "name": "python",
   "nbconvert_exporter": "python",
   "pygments_lexer": "ipython3",
   "version": "3.13.3"
  }
 },
 "nbformat": 4,
 "nbformat_minor": 5
}
