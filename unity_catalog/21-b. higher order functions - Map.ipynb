{
 "cells": [
  {
   "cell_type": "markdown",
   "metadata": {
    "application/vnd.databricks.v1+cell": {
     "cellMetadata": {},
     "inputWidgets": {},
     "nuid": "db47de13-daa9-4363-ae82-7b2beccaf54d",
     "showTitle": false,
     "tableResultSettingsMap": {},
     "title": ""
    }
   },
   "source": [
    "# Higher Order Functions - Map\n",
    "* Higher Order Functions are functions that operate on compolex data type such as arrays and maps\n",
    "* They allow you to pass functions as arguments (such as lambda expressions), apply transformations and return arrays or maps\n",
    "* They are extremely useful for manipulating arrays without exploding them."
   ]
  },
  {
   "cell_type": "markdown",
   "metadata": {
    "application/vnd.databricks.v1+cell": {
     "cellMetadata": {},
     "inputWidgets": {},
     "nuid": "d02c85c0-7966-4194-b24f-22533f9ca014",
     "showTitle": false,
     "tableResultSettingsMap": {},
     "title": ""
    }
   },
   "source": [
    "A map is a collection of key-value pairs, like a dictionary \\\n",
    "`{\n",
    "  'laptop': 1200,\n",
    "  'phone: 699\n",
    "}`"
   ]
  },
  {
   "cell_type": "markdown",
   "metadata": {
    "application/vnd.databricks.v1+cell": {
     "cellMetadata": {},
     "inputWidgets": {},
     "nuid": "01c79d22-3ae9-4598-8b10-c9fdc530569b",
     "showTitle": false,
     "tableResultSettingsMap": {},
     "title": ""
    }
   },
   "source": [
    "Commonly used Higher Order Map Functions\n",
    "* TRANSFORM_VALUES\n",
    "* TRANSFORM_KEYS\n",
    "* MAP_FILTER"
   ]
  },
  {
   "cell_type": "markdown",
   "metadata": {
    "application/vnd.databricks.v1+cell": {
     "cellMetadata": {},
     "inputWidgets": {},
     "nuid": "9d8b106f-a02c-4489-bf67-56a2f1e41a29",
     "showTitle": false,
     "tableResultSettingsMap": {},
     "title": ""
    }
   },
   "source": [
    "Syntax\n",
    "***\n",
    "\\<function_name>(map_column, lambda_expression) \\\n",
    "_lambda expression_: (key, value) -> expression"
   ]
  },
  {
   "cell_type": "code",
   "execution_count": 0,
   "metadata": {
    "application/vnd.databricks.v1+cell": {
     "cellMetadata": {
      "byteLimit": 2048000,
      "rowLimit": 10000
     },
     "inputWidgets": {},
     "nuid": "db6d802f-f821-4270-9937-4e09e9020d62",
     "showTitle": false,
     "tableResultSettingsMap": {},
     "title": ""
    }
   },
   "outputs": [],
   "source": [
    "CREATE OR REPLACE TEMPORARY VIEW order_item_prices\n",
    "AS\n",
    "SELECT * FROM VALUES\n",
    "  (1, map('smartphone', 699, 'laptop', 1199, 'monitor', 399)),\n",
    "  (2, map('tablet', 599, 'headphones', 199, 'smartwatch', 299)),\n",
    "  (3, map('keyboard', 89, 'mouse', 59))\n",
    "AS orders(order_id, item_prices);\n"
   ]
  },
  {
   "cell_type": "markdown",
   "metadata": {
    "application/vnd.databricks.v1+cell": {
     "cellMetadata": {},
     "inputWidgets": {},
     "nuid": "19fffcfe-185f-4626-851f-13988abfab0f",
     "showTitle": false,
     "tableResultSettingsMap": {},
     "title": ""
    }
   },
   "source": [
    "1. Convert all the item names to be UPPERCASE (TRANSFORM_KEYS Function)"
   ]
  },
  {
   "cell_type": "code",
   "execution_count": 0,
   "metadata": {
    "application/vnd.databricks.v1+cell": {
     "cellMetadata": {
      "byteLimit": 2048000,
      "rowLimit": 10000
     },
     "inputWidgets": {},
     "nuid": "e4161795-085c-43f4-849c-538dc64f850f",
     "showTitle": false,
     "tableResultSettingsMap": {},
     "title": ""
    }
   },
   "outputs": [],
   "source": [
    "SELECT \n",
    "  TRANSFORM_KEYS(item_prices, (k, v) -> upper(k)) AS item_upper_case\n",
    "FROM order_item_prices;"
   ]
  },
  {
   "cell_type": "markdown",
   "metadata": {
    "application/vnd.databricks.v1+cell": {
     "cellMetadata": {},
     "inputWidgets": {},
     "nuid": "3fa18036-8bd5-4926-b35d-12d4ade93e09",
     "showTitle": false,
     "tableResultSettingsMap": {},
     "title": ""
    }
   },
   "source": [
    "2. Apply 10% TAX to item prices (TRANSFORM_VALUES Function)"
   ]
  },
  {
   "cell_type": "code",
   "execution_count": 0,
   "metadata": {
    "application/vnd.databricks.v1+cell": {
     "cellMetadata": {
      "byteLimit": 2048000,
      "rowLimit": 10000
     },
     "inputWidgets": {},
     "nuid": "0dd8fcf8-6219-413a-962c-ea5a3b3d893a",
     "showTitle": false,
     "tableResultSettingsMap": {},
     "title": ""
    }
   },
   "outputs": [],
   "source": [
    "SELECT \n",
    "  TRANSFORM_VALUES(item_prices, (k, v) -> round(v * 1.10, 2)) AS prices_with_tax\n",
    "FROM order_item_prices;"
   ]
  },
  {
   "cell_type": "markdown",
   "metadata": {
    "application/vnd.databricks.v1+cell": {
     "cellMetadata": {},
     "inputWidgets": {},
     "nuid": "576a61be-4258-4a7b-8b82-0222163aa152",
     "showTitle": false,
     "tableResultSettingsMap": {},
     "title": ""
    }
   },
   "source": [
    "3. Filter only items with price above $500 (MAP_FILTER Function)"
   ]
  },
  {
   "cell_type": "code",
   "execution_count": 0,
   "metadata": {
    "application/vnd.databricks.v1+cell": {
     "cellMetadata": {
      "byteLimit": 2048000,
      "rowLimit": 10000
     },
     "inputWidgets": {},
     "nuid": "c46cf5aa-fb63-4b68-9186-93bcf93d084e",
     "showTitle": false,
     "tableResultSettingsMap": {},
     "title": ""
    }
   },
   "outputs": [],
   "source": [
    "SELECT\n",
    "  MAP_FILTER(item_prices, (k, v) -> v > 500) AS premium_items\n",
    "FROM order_item_prices;"
   ]
  }
 ],
 "metadata": {
  "application/vnd.databricks.v1+notebook": {
   "computePreferences": null,
   "dashboards": [],
   "environmentMetadata": {
    "base_environment": "",
    "environment_version": "2"
   },
   "inputWidgetPreferences": null,
   "language": "sql",
   "notebookMetadata": {
    "pythonIndentUnit": 4
   },
   "notebookName": "21-b. higher order functions - Map",
   "widgets": {}
  },
  "language_info": {
   "name": "sql"
  }
 },
 "nbformat": 4,
 "nbformat_minor": 0
}
