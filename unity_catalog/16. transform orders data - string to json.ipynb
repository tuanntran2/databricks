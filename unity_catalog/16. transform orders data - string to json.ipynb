{
 "cells": [
  {
   "cell_type": "markdown",
   "id": "d4e7f7e1-2b71-4961-bb82-f699830401ce",
   "metadata": {},
   "source": [
    "# Transform Orders Data - String to JSON\n",
    "1. Pre-process the JSON String to fix the data quality issues\n",
    "2. Transforms JSON String to JSON Object\n",
    "3. Write transformed data to the Silver schema"
   ]
  },
  {
   "cell_type": "code",
   "execution_count": null,
   "id": "68025108-1b5e-4e2d-8770-4a513324a3ab",
   "metadata": {},
   "outputs": [],
   "source": [
    "SELECT *\n",
    "FROM udemyttstorage_catalog.bronze.orders_view;"
   ]
  },
  {
   "cell_type": "markdown",
   "id": "431be778-e414-45e0-9d71-43f44f71054f",
   "metadata": {},
   "source": [
    "1. Pre-process the JSON String to fix the data quality issues \\\n",
    "   [Documentation for regexp_replace function](https://learn.microsoft.com/en-us/azure/databricks/sql/language-manual/functions/regexp_replace)"
   ]
  },
  {
   "cell_type": "code",
   "execution_count": null,
   "id": "7b5308f4-2891-4cef-8e11-1ccc3b0cd51d",
   "metadata": {},
   "outputs": [],
   "source": [
    "CREATE OR REPLACE TEMP VIEW orders_fixed_view\n",
    "AS\n",
    "SELECT\n",
    "    regexp_replace('order_date\": (\\\\d{4}-\\\\d{2}-\\\\d{2})', '\"order_date\": \"\\$1\"') AS fixed_value\n",
    "FROM udemyttstorage_catalog.bronze.orders_view;"
   ]
  },
  {
   "cell_type": "markdown",
   "id": "d7315bee-9b86-458f-a3a6-ed0498e9803b",
   "metadata": {},
   "source": [
    "2. Transforms JSON String to JSON Object \\\n",
    "   [Documentation of schema_of_json](https://learn.microsoft.com/en-us/azure/databricks/sql/language-manual/functions/schema_of_json) \\\n",
    "   [Documentation of from_json](https://learn.microsoft.com/en-us/azure/databricks/sql/language-manual/functions/from_json)"
   ]
  },
  {
   "cell_type": "code",
   "execution_count": null,
   "id": "a8080967-83ee-4de0-a225-f0b9cdfef6ae",
   "metadata": {},
   "outputs": [],
   "source": [
    "# Get the schema\n",
    "SELECT\n",
    "    schema_of_json(fixed_value)\n",
    "FROM orders_fixed_view\n",
    "LIMIT 1;"
   ]
  },
  {
   "cell_type": "code",
   "execution_count": null,
   "id": "c8a1bfa4-1232-4d17-b762-577bec5ce6ff",
   "metadata": {},
   "outputs": [],
   "source": [
    "SELECT\n",
    "    from_json(fixed_value, <schema from the above query>) AS json_value\n",
    "FROM orders_fixed_view;"
   ]
  },
  {
   "cell_type": "markdown",
   "id": "32dc28db-809b-40ba-8345-2801577a47f2",
   "metadata": {},
   "source": [
    "3. Write transformed data to the Silver schema"
   ]
  },
  {
   "cell_type": "code",
   "execution_count": null,
   "id": "fc5928fb-9b00-4bb7-bc1e-0a6d5a6a0795",
   "metadata": {},
   "outputs": [],
   "source": [
    "CREATE TABLE IF NOT EXISTS udemyttstorage_catalog.silver.orders_json;\n",
    "AS\n",
    "SELECT\n",
    "    from_json(fixed_value, <schema from the above query>) AS json_value\n",
    "FROM orders_fixed_view;"
   ]
  }
 ],
 "metadata": {
  "kernelspec": {
   "display_name": "Python 3 (ipykernel)",
   "language": "python",
   "name": "python3"
  },
  "language_info": {
   "codemirror_mode": {
    "name": "ipython",
    "version": 3
   },
   "file_extension": ".py",
   "mimetype": "text/x-python",
   "name": "python",
   "nbconvert_exporter": "python",
   "pygments_lexer": "ipython3",
   "version": "3.13.3"
  }
 },
 "nbformat": 4,
 "nbformat_minor": 5
}
