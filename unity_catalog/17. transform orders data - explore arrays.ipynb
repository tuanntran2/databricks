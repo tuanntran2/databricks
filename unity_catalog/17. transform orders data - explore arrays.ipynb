{
 "cells": [
  {
   "cell_type": "markdown",
   "id": "d78a52d1-d51b-43f5-94fa-d7f6f4ed6515",
   "metadata": {},
   "source": [
    "# Transform Orders Data - Explode Array\n",
    "1. Access elements from the JSON object\n",
    "2. Deduplicate array elements\n",
    "3. Explode arrays\n",
    "4. Write the transformed data to Silver schema"
   ]
  },
  {
   "cell_type": "code",
   "execution_count": null,
   "id": "c0e9ffa2-1138-4265-bc34-ac60c9a28649",
   "metadata": {},
   "outputs": [],
   "source": [
    "SELECT *\n",
    "FROM udemyttstorage_catalog.silver.orders_json;"
   ]
  },
  {
   "cell_type": "markdown",
   "id": "72a43dc9-5909-4c85-b9c0-4b824cade9dd",
   "metadata": {},
   "source": [
    "1. Access elements from the JSON object"
   ]
  },
  {
   "cell_type": "code",
   "execution_count": null,
   "id": "b91af7a3-e6ae-4dc4-9230-ea09b4d3b40b",
   "metadata": {},
   "outputs": [],
   "source": [
    "SELECT \n",
    "    json_value.order_id,\n",
    "    json_value.order_status,\n",
    "    json_value.order_status,\n",
    "    json_value.payment_method,\n",
    "    json_value.total_amount,\n",
    "    json_value.transaction_timestamp,\n",
    "    json_value.customer_id,\n",
    "    json_value.items\n",
    "FROM udemyttstorage_catalog.silver.orders_json;"
   ]
  }
 ],
 "metadata": {
  "kernelspec": {
   "display_name": "Python 3 (ipykernel)",
   "language": "python",
   "name": "python3"
  },
  "language_info": {
   "codemirror_mode": {
    "name": "ipython",
    "version": 3
   },
   "file_extension": ".py",
   "mimetype": "text/x-python",
   "name": "python",
   "nbconvert_exporter": "python",
   "pygments_lexer": "ipython3",
   "version": "3.13.3"
  }
 },
 "nbformat": 4,
 "nbformat_minor": 5
}
