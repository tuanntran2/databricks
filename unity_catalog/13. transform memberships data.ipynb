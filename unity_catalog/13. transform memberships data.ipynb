{
 "cells": [
  {
   "cell_type": "markdown",
   "id": "ffe10372-7087-4e73-98d5-13d874b124f7",
   "metadata": {},
   "source": [
    "# Transform Memberships Data\n",
    "1. Extract customer_id from the file path\n",
    "2. Write transtromed data to the Silver schema"
   ]
  },
  {
   "cell_type": "code",
   "execution_count": null,
   "id": "7b601c7c-8ba6-4dbc-921f-9c7c067b15d0",
   "metadata": {},
   "outputs": [],
   "source": [
    "SELECT *\n",
    "FROM udemyttstorage_catalog.bronze.memberships;"
   ]
  },
  {
   "cell_type": "markdown",
   "id": "8a600a91-f30d-42ba-9aa2-e1dfd5c4bf99",
   "metadata": {},
   "source": [
    "1. Extract customer_id from the file path"
   ]
  },
  {
   "cell_type": "code",
   "execution_count": null,
   "id": "d3d4800a-005f-4faf-b65e-5ccdfb0bb346",
   "metadata": {},
   "outputs": [],
   "source": [
    "SELECT\n",
    "    regexp_extract(file_path, \".*/(\\d+)\\\\.png$\", 1) AS customer_id,\n",
    "    content AS membership_card\n",
    "FROM udemyttstorage_catalog.bronze.memberships;"
   ]
  },
  {
   "cell_type": "markdown",
   "id": "961d9ce3-13c9-4efb-b55d-2a1b177b8d12",
   "metadata": {},
   "source": [
    "2. Write transtromed data to the Silver schema"
   ]
  },
  {
   "cell_type": "code",
   "execution_count": null,
   "id": "d45b1d6a-7308-46dc-8326-05854cc9a654",
   "metadata": {},
   "outputs": [],
   "source": [
    "CREATE OR REPLACE TABLE udemyttstorage_catalog.silver.memberships\n",
    "AS\n",
    "SELECT\n",
    "    regexp_extract(file_path, \".*/(\\d+)\\\\.png$\", 1) AS customer_id,\n",
    "    content AS membership_card\n",
    "FROM udemyttstorage_catalog.bronze.memberships;"
   ]
  }
 ],
 "metadata": {
  "kernelspec": {
   "display_name": "Python 3 (ipykernel)",
   "language": "python",
   "name": "python3"
  },
  "language_info": {
   "codemirror_mode": {
    "name": "ipython",
    "version": 3
   },
   "file_extension": ".py",
   "mimetype": "text/x-python",
   "name": "python",
   "nbconvert_exporter": "python",
   "pygments_lexer": "ipython3",
   "version": "3.13.3"
  }
 },
 "nbformat": 4,
 "nbformat_minor": 5
}
