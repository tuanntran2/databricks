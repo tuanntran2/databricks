{
 "cells": [
  {
   "cell_type": "markdown",
   "metadata": {
    "application/vnd.databricks.v1+cell": {
     "cellMetadata": {},
     "inputWidgets": {},
     "nuid": "7573281c-ae03-4e47-9522-8ae10b478226",
     "showTitle": false,
     "tableResultSettingsMap": {},
     "title": ""
    }
   },
   "source": [
    "# Process Addresses Data\n",
    "1. Ingest the data into the data lakehouse - bronze_addresses\n",
    "2. Perform data quality checks and transform the data as required - silver_adresses_clean\n",
    "3. Apply changes to the Adresses data (SCD Type 2) - silver_addresses\n",
    "\n",
    "Note: Within a DLT pipeline you can have some notebooks in Python, some notebooks in SQL.  But within a notebook, you can't mix languages, either all python or all SQL.  Can't have magic commands."
   ]
  },
  {
   "cell_type": "markdown",
   "metadata": {
    "application/vnd.databricks.v1+cell": {
     "cellMetadata": {},
     "inputWidgets": {},
     "nuid": "92b3a824-f3e0-449e-a8b7-1bf6c06a274c",
     "showTitle": false,
     "tableResultSettingsMap": {},
     "title": ""
    }
   },
   "source": [
    "1. Ingest the data into the data lakehouse - bronze_addresses"
   ]
  },
  {
   "cell_type": "code",
   "execution_count": 0,
   "metadata": {
    "application/vnd.databricks.v1+cell": {
     "cellMetadata": {},
     "inputWidgets": {},
     "nuid": "796efffc-0e05-4c8b-b916-d795cf0c2b9d",
     "showTitle": false,
     "tableResultSettingsMap": {},
     "title": ""
    }
   },
   "outputs": [],
   "source": [
    "# # Retrieve the storage account key from Databricks secrets\n",
    "# storage_account_key = \"Yijcr+xeZyHzFPhfzZdbw4HXMniSbaSnT5j6hOx3jK3WpEmL0PCZdEms2KGrHytdSnwtcZMIRY/R+AStummUzw==\"\n",
    "\n",
    "# # Set the Spark configuration for the Azure storage account\n",
    "# spark.conf.set(\n",
    "#     \"fs.azure.account.key.udemyttstorage.dfs.core.windows.net\",\n",
    "#     storage_account_key\n",
    "# )"
   ]
  },
  {
   "cell_type": "code",
   "execution_count": 0,
   "metadata": {
    "application/vnd.databricks.v1+cell": {
     "cellMetadata": {},
     "inputWidgets": {},
     "nuid": "b9430e76-4fc5-4e68-a280-7ef4afec8d62",
     "showTitle": false,
     "tableResultSettingsMap": {},
     "title": ""
    }
   },
   "outputs": [],
   "source": [
    "# SAS_TOKEN = 'sv=2024-11-04&ss=bfqt&srt=sco&sp=rwdlacupyx&se=2025-06-14T02:10:03Z&st=2025-06-13T18:10:03Z&spr=https&sig=3oMVpiX9vnoQQG47dsYkgbp9ppXff0r4yBLzc8N9Fa4%3D'\n",
    "# STORAGE_ACCOUNT_NAME = 'udemyttstorage'\n",
    "\n",
    "# spark.conf.set(f\"fs.azure.account.auth.type.{STORAGE_ACCOUNT_NAME}.dfs.core.windows.net\", \"SAS\")\n",
    "# spark.conf.set(f\"fs.azure.sas.token.provider.type.{STORAGE_ACCOUNT_NAME}.dfs.core.windows.net\", \"org.apache.hadoop.fs.azurebfs.sas.FixedSASTokenProvider\")\n",
    "# spark.conf.set(f\"fs.azure.sas.fixed.token.{STORAGE_ACCOUNT_NAME}.dfs.core.windows.net\", SAS_TOKEN)"
   ]
  },
  {
   "cell_type": "code",
   "execution_count": 0,
   "metadata": {
    "application/vnd.databricks.v1+cell": {
     "cellMetadata": {
      "byteLimit": 2048000,
      "rowLimit": 10000
     },
     "inputWidgets": {},
     "nuid": "522fb93e-af97-4296-8d99-1b9b8cdf83e6",
     "showTitle": false,
     "tableResultSettingsMap": {},
     "title": ""
    }
   },
   "outputs": [],
   "source": [
    "import dlt\n",
    "import pyspark.sql.functions as F\n",
    "\n",
    "@dlt.table(\n",
    "    name=\"bronze_addresses\",\n",
    "    table_properties={\"quality\": \"bronze\"},\n",
    "    comment=\"Raw addresses data ingested from the source system\",\n",
    ")\n",
    "def create_bronze_addresses():\n",
    "    data = spark.readStream \\\n",
    "        .format(\"cloudFiles\") \\\n",
    "        .option(\"cloudFiles.format\", \"csv\") \\\n",
    "        # .option(\"cloudFiles.schemaLocation\",\"/mnt/circuitbox/landing/operational_data/addresses/_schema\") \\\n",
    "        .option(\"cloudFiles.inferColumnTypes\", \"true\") \\\n",
    "        .load(\"/mnt/circuitbox/landing/operational_data/addresses\")\n",
    "\n",
    "    return data.select(\n",
    "        \"*\",\n",
    "        F.col(\"_metadata.file_path\").alias(\"input_file_path\"),\n",
    "        F.current_timestamp().alias(\"ingestion_date\"),\n",
    "    )"
   ]
  },
  {
   "cell_type": "markdown",
   "metadata": {
    "application/vnd.databricks.v1+cell": {
     "cellMetadata": {},
     "inputWidgets": {},
     "nuid": "5df304d0-7e04-4959-9974-79ff3679f2b0",
     "showTitle": false,
     "tableResultSettingsMap": {},
     "title": ""
    }
   },
   "source": [
    "2. Perform data quality checks and transformthe data as required silver_addresses_clean"
   ]
  },
  {
   "cell_type": "code",
   "execution_count": 0,
   "metadata": {
    "application/vnd.databricks.v1+cell": {
     "cellMetadata": {},
     "inputWidgets": {},
     "nuid": "61a78933-cd9a-43f2-b444-3e992c7d6d8d",
     "showTitle": false,
     "tableResultSettingsMap": {},
     "title": ""
    }
   },
   "outputs": [],
   "source": [
    "@dlt.table(\n",
    "    name=\"silver_addresses_clean\",\n",
    "    comment = \"Cleaned addresses data\",\n",
    "    table_properties = \"{'quality': 'silver'}\",\n",
    ")\n",
    "@dlt.expect_or_fail(\"valid_customer_id\", \"customer_id IS NOT NULL\")\n",
    "@dlt.expect_or_drop(\"valid_address\", \"address_line_1 IS NOT NULL\")\n",
    "@dlt.expect_or_drop(\"valid_postcode\", \"LENGTH(postcode) = 5\")\n",
    "def create_silver_addresses_clean():\n",
    "    return spark.readStream.table(\"LIVE.bronze_addresses\") \\\n",
    "        .select(\n",
    "            \"customer_id\",\n",
    "            \"address_line_1\",\n",
    "            \"city\",\n",
    "            \"state\",\n",
    "            \"postcode\",\n",
    "            F.col(\"created_date\").cast(\"date\")\n",
    "        )"
   ]
  },
  {
   "cell_type": "markdown",
   "metadata": {
    "application/vnd.databricks.v1+cell": {
     "cellMetadata": {},
     "inputWidgets": {},
     "nuid": "dd356d58-6513-4c14-9cdb-5b5601383583",
     "showTitle": false,
     "tableResultSettingsMap": {},
     "title": ""
    }
   },
   "source": []
  },
  {
   "cell_type": "markdown",
   "metadata": {
    "application/vnd.databricks.v1+cell": {
     "cellMetadata": {},
     "inputWidgets": {},
     "nuid": "e2953031-b08d-468d-9254-89a8bc9dadcf",
     "showTitle": false,
     "tableResultSettingsMap": {},
     "title": ""
    }
   },
   "source": [
    "3. Apply changes to the Addresses data (SCD Type 2) - silver_addresses"
   ]
  },
  {
   "cell_type": "code",
   "execution_count": 0,
   "metadata": {
    "application/vnd.databricks.v1+cell": {
     "cellMetadata": {},
     "inputWidgets": {},
     "nuid": "5dcef2a2-5b47-450c-821d-5aaf6484597c",
     "showTitle": false,
     "tableResultSettingsMap": {},
     "title": ""
    }
   },
   "outputs": [],
   "source": [
    "dlt.create_streaming_table(\n",
    "    name=\"silver_addresses\",\n",
    "    comment = \"SCD Type 2 addresses data\",\n",
    "    table_properties = \"{'quality': 'silver'}\",\n",
    ")\n",
    "\n",
    "dlt.apply_changes(\n",
    "    target = \"silver_addresses\",\n",
    "    source = \"silver_addresses_clean\",\n",
    "    keys = [\"customer_id\"],\n",
    "    sequence_by = \"created_date\",\n",
    "    stored_as_scd_type = 2,\n",
    ")"
   ]
  }
 ],
 "metadata": {
  "application/vnd.databricks.v1+notebook": {
   "computePreferences": null,
   "dashboards": [],
   "environmentMetadata": {
    "base_environment": "",
    "environment_version": "2"
   },
   "inputWidgetPreferences": null,
   "language": "python",
   "notebookMetadata": {
    "mostRecentlyExecutedCommandWithImplicitDF": {
     "commandId": 4699604227416643,
     "dataframes": [
      "_sqldf"
     ]
    },
    "pythonIndentUnit": 4
   },
   "notebookName": "03. python - process addresses data",
   "widgets": {}
  },
  "language_info": {
   "name": "python"
  }
 },
 "nbformat": 4,
 "nbformat_minor": 0
}
