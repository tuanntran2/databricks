{
 "cells": [
  {
   "cell_type": "markdown",
   "metadata": {
    "application/vnd.databricks.v1+cell": {
     "cellMetadata": {},
     "inputWidgets": {},
     "nuid": "db47de13-daa9-4363-ae82-7b2beccaf54d",
     "showTitle": false,
     "tableResultSettingsMap": {},
     "title": ""
    }
   },
   "source": [
    "# Higher Order Functions - Array\n",
    "* Higher Order Functions are functions that operate on compolex data type such as arrays and maps\n",
    "* They allow you to pass functions as arguments (such as lambda expressions), apply transformations and return arrays or maps\n",
    "* They are extremely useful for manipulating arrays without exploding them."
   ]
  },
  {
   "cell_type": "markdown",
   "metadata": {
    "application/vnd.databricks.v1+cell": {
     "cellMetadata": {},
     "inputWidgets": {},
     "nuid": "77759cef-fbb2-4d58-9dea-c9ee828b0d97",
     "showTitle": false,
     "tableResultSettingsMap": {},
     "title": ""
    }
   },
   "source": [
    "Commonly used higher order array functions\n",
    "* TRANSFORM\n",
    "* FILTER\n",
    "* EXISTS\n",
    "* AGGREGATE"
   ]
  },
  {
   "cell_type": "markdown",
   "metadata": {
    "application/vnd.databricks.v1+cell": {
     "cellMetadata": {},
     "inputWidgets": {},
     "nuid": "5f372766-32b4-4c5a-8057-faa050074c0f",
     "showTitle": false,
     "tableResultSettingsMap": {},
     "title": ""
    }
   },
   "source": [
    "Syntax\n",
    "***\n",
    "\\<function_name>(array_column, lambda_expression) \\\n",
    "_lambda_expression_: element -> expression\""
   ]
  },
  {
   "cell_type": "code",
   "execution_count": 0,
   "metadata": {
    "application/vnd.databricks.v1+cell": {
     "cellMetadata": {
      "byteLimit": 2048000,
      "rowLimit": 10000
     },
     "inputWidgets": {},
     "nuid": "db6d802f-f821-4270-9937-4e09e9020d62",
     "showTitle": false,
     "tableResultSettingsMap": {},
     "title": ""
    }
   },
   "outputs": [],
   "source": [
    "CREATE OR REPLACE TEMPORARY VIEW order_items\n",
    "AS\n",
    "SELECT * FROM VALUES\n",
    "  (1, array('smartphone', 'laptop', 'monitor')),\n",
    "  (2, array('tablet', 'headphones', 'smartwatch')),\n",
    "  (3, array('keyboard', 'mouse'))\n",
    "AS orders(order_id, items);\n"
   ]
  },
  {
   "cell_type": "markdown",
   "metadata": {
    "application/vnd.databricks.v1+cell": {
     "cellMetadata": {},
     "inputWidgets": {},
     "nuid": "8b501cd2-80ec-4bdd-baf9-81b58c8c1452",
     "showTitle": false,
     "tableResultSettingsMap": {},
     "title": ""
    }
   },
   "source": [
    "1. Convert all the item names to be UPPERCASE (TRANSFORM Function)"
   ]
  },
  {
   "cell_type": "code",
   "execution_count": 0,
   "metadata": {
    "application/vnd.databricks.v1+cell": {
     "cellMetadata": {
      "byteLimit": 2048000,
      "rowLimit": 10000
     },
     "inputWidgets": {},
     "nuid": "c41d8ea3-58a3-4de6-9648-7eec3a5606b4",
     "showTitle": false,
     "tableResultSettingsMap": {},
     "title": ""
    }
   },
   "outputs": [],
   "source": [
    "SELECT\n",
    "  order_id,\n",
    "  TRANSFORM(items, x -> UPPER(x))\n",
    "FROM order_items;"
   ]
  },
  {
   "cell_type": "markdown",
   "metadata": {
    "application/vnd.databricks.v1+cell": {
     "cellMetadata": {},
     "inputWidgets": {},
     "nuid": "576a61be-4258-4a7b-8b82-0222163aa152",
     "showTitle": false,
     "tableResultSettingsMap": {},
     "title": ""
    }
   },
   "source": [
    "2. Filter only items that contains the string 'smart' (FILTER function)"
   ]
  },
  {
   "cell_type": "code",
   "execution_count": 0,
   "metadata": {
    "application/vnd.databricks.v1+cell": {
     "cellMetadata": {
      "byteLimit": 2048000,
      "rowLimit": 10000
     },
     "inputWidgets": {},
     "nuid": "4c70923b-76c0-4019-950a-9db1315ba4ca",
     "showTitle": false,
     "tableResultSettingsMap": {},
     "title": ""
    }
   },
   "outputs": [],
   "source": [
    "SELECT\n",
    "  order_id,\n",
    "  FILTER(items, x -> x LIKE '%smart%')\n",
    "FROM order_items;"
   ]
  },
  {
   "cell_type": "markdown",
   "metadata": {
    "application/vnd.databricks.v1+cell": {
     "cellMetadata": {},
     "inputWidgets": {},
     "nuid": "27e07b9d-1927-487f-806f-bf61dbeee633",
     "showTitle": false,
     "tableResultSettingsMap": {},
     "title": ""
    }
   },
   "source": [
    "3. Check to see whether the order include any 'monitor' (EXIST Function)"
   ]
  },
  {
   "cell_type": "code",
   "execution_count": 0,
   "metadata": {
    "application/vnd.databricks.v1+cell": {
     "cellMetadata": {
      "byteLimit": 2048000,
      "rowLimit": 10000
     },
     "inputWidgets": {},
     "nuid": "4b5951f1-c73b-457e-85ee-eac631e2e606",
     "showTitle": false,
     "tableResultSettingsMap": {},
     "title": ""
    }
   },
   "outputs": [],
   "source": [
    "SELECT\n",
    "  order_id,\n",
    "  EXISTS(items, x -> x = 'monitor') AS has_monitor\n",
    "FROM order_items;"
   ]
  },
  {
   "cell_type": "markdown",
   "metadata": {
    "application/vnd.databricks.v1+cell": {
     "cellMetadata": {},
     "inputWidgets": {},
     "nuid": "4587eb31-2fd9-4b86-a6c1-e5afafe4b5e3",
     "showTitle": false,
     "tableResultSettingsMap": {},
     "title": ""
    }
   },
   "source": [
    "Array with more than one object"
   ]
  },
  {
   "cell_type": "code",
   "execution_count": 0,
   "metadata": {
    "application/vnd.databricks.v1+cell": {
     "cellMetadata": {
      "byteLimit": 2048000,
      "rowLimit": 10000
     },
     "inputWidgets": {},
     "nuid": "6f2956e6-b35a-4273-9fdf-3cae631ffd4c",
     "showTitle": false,
     "tableResultSettingsMap": {},
     "title": ""
    }
   },
   "outputs": [],
   "source": [
    "CREATE OR REPLACE TEMPORARY VIEW order_items\n",
    "AS\n",
    "SELECT * FROM VALUES\n",
    "  (1, array(\n",
    "    named_struct('name', 'smartphone', 'price', 699),\n",
    "    named_struct('name', 'laptop', 'price', 1199),\n",
    "    named_struct('name', 'monitor', 'price', 399)\n",
    "  )),\n",
    "  (2, array(\n",
    "    named_struct('name', 'tablet', 'price', 599),\n",
    "    named_struct('name', 'headphones', 'price', 199),\n",
    "    named_struct('name', 'smartwatch', 'price', 299)\n",
    "  )),\n",
    "  (3, array(\n",
    "    named_struct('name', 'keyboard', 'price', 89),\n",
    "    named_struct('name', 'mouse', 'price', 59)\n",
    "  ))\n",
    "AS orders(order_id, items);\n"
   ]
  },
  {
   "cell_type": "code",
   "execution_count": 0,
   "metadata": {
    "application/vnd.databricks.v1+cell": {
     "cellMetadata": {
      "byteLimit": 2048000,
      "rowLimit": 10000
     },
     "inputWidgets": {},
     "nuid": "1585c1eb-3c11-407f-8617-df7a865676a6",
     "showTitle": false,
     "tableResultSettingsMap": {},
     "title": ""
    }
   },
   "outputs": [],
   "source": [
    "SELECT * FROM order_items;"
   ]
  },
  {
   "cell_type": "markdown",
   "metadata": {
    "application/vnd.databricks.v1+cell": {
     "cellMetadata": {},
     "inputWidgets": {},
     "nuid": "9fff2065-36aa-4a48-9924-c4e62efd5085",
     "showTitle": false,
     "tableResultSettingsMap": {},
     "title": ""
    }
   },
   "source": [
    "1. Convert all the item names to be UPPERCASE & Add 10% TAX to each item (TRANSFORM Function)"
   ]
  },
  {
   "cell_type": "code",
   "execution_count": 0,
   "metadata": {
    "application/vnd.databricks.v1+cell": {
     "cellMetadata": {
      "byteLimit": 2048000,
      "rowLimit": 10000
     },
     "collapsed": true,
     "inputWidgets": {},
     "nuid": "67251097-d788-4780-b0f7-caf43f73a5d2",
     "showTitle": false,
     "tableResultSettingsMap": {},
     "title": ""
    }
   },
   "outputs": [],
   "source": [
    "SELECT\n",
    "  order_id,\n",
    "  TRANSFORM(items, x -> named_struct(\n",
    "    'name', upper(x.name),\n",
    "    'price', round(x.price * 1.1, 2)\n",
    "  )) AS items_with_tax\n",
    "FROM order_items;"
   ]
  },
  {
   "cell_type": "markdown",
   "metadata": {
    "application/vnd.databricks.v1+cell": {
     "cellMetadata": {},
     "inputWidgets": {},
     "nuid": "8abbb447-31e3-4a2f-a94d-f7d3ac66919d",
     "showTitle": false,
     "tableResultSettingsMap": {},
     "title": ""
    }
   },
   "source": [
    "2. Calculate the total order amount for each of the order (AGGREGATE Function)"
   ]
  },
  {
   "cell_type": "code",
   "execution_count": 0,
   "metadata": {
    "application/vnd.databricks.v1+cell": {
     "cellMetadata": {
      "byteLimit": 2048000,
      "rowLimit": 10000
     },
     "inputWidgets": {},
     "nuid": "58ea7176-1cc0-4d13-ad3f-959b9d9a05be",
     "showTitle": false,
     "tableResultSettingsMap": {},
     "title": ""
    }
   },
   "outputs": [],
   "source": [
    "SELECT \n",
    "  AGGREGATE(items, 0, (acc, x) -> acc + x.price) AS total_order_price\n",
    "FROM order_items;"
   ]
  }
 ],
 "metadata": {
  "application/vnd.databricks.v1+notebook": {
   "computePreferences": null,
   "dashboards": [],
   "environmentMetadata": {
    "base_environment": "",
    "environment_version": "2"
   },
   "inputWidgetPreferences": null,
   "language": "sql",
   "notebookMetadata": {
    "pythonIndentUnit": 4
   },
   "notebookName": "21-a. higher order functions - List",
   "widgets": {}
  },
  "language_info": {
   "name": "sql"
  }
 },
 "nbformat": 4,
 "nbformat_minor": 0
}
