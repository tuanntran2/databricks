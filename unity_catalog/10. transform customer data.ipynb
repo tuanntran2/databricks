{
 "cells": [
  {
   "cell_type": "markdown",
   "metadata": {
    "application/vnd.databricks.v1+cell": {
     "cellMetadata": {},
     "inputWidgets": {},
     "nuid": "b29bc369-61ed-4a53-8e65-6216622a32d5",
     "showTitle": false,
     "tableResultSettingsMap": {},
     "title": ""
    }
   },
   "source": [
    "# Transform customer Data\n",
    "1. Remove records with NULL customer_id\n",
    "2. Remove exact duplicate records\n",
    "3. Remove duplicate records based on created_timestamp\n",
    "4. CAST the columns to the correct Data Types\n",
    "5. Write transformed data ot the Silver schema"
   ]
  },
  {
   "cell_type": "markdown",
   "metadata": {
    "application/vnd.databricks.v1+cell": {
     "cellMetadata": {},
     "inputWidgets": {},
     "nuid": "e0e07f09-ab4f-4091-b548-4fc7f326bf93",
     "showTitle": false,
     "tableResultSettingsMap": {},
     "title": ""
    }
   },
   "source": [
    "1. Remove records with NULL customer_id"
   ]
  },
  {
   "cell_type": "markdown",
   "metadata": {
    "application/vnd.databricks.v1+cell": {
     "cellMetadata": {},
     "inputWidgets": {},
     "nuid": "0937814b-1148-4431-bcb5-eefe01eca21d",
     "showTitle": false,
     "tableResultSettingsMap": {},
     "title": ""
    }
   },
   "source": [
    "SELECT *\n",
    "FROM udemyttstorage_catalog.bronze.customers_view\n",
    "WHERE customer_id IS NOT NULL;"
   ]
  },
  {
   "cell_type": "markdown",
   "metadata": {
    "application/vnd.databricks.v1+cell": {
     "cellMetadata": {},
     "inputWidgets": {},
     "nuid": "255850ad-b11a-4448-82c1-a0584267f3f2",
     "showTitle": false,
     "tableResultSettingsMap": {},
     "title": ""
    }
   },
   "source": [
    "2. Remove exact duplicate records"
   ]
  },
  {
   "cell_type": "code",
   "execution_count": 0,
   "metadata": {
    "application/vnd.databricks.v1+cell": {
     "cellMetadata": {},
     "inputWidgets": {},
     "nuid": "bff6f5cb-7424-4199-bd2b-94252416d674",
     "showTitle": false,
     "tableResultSettingsMap": {},
     "title": ""
    }
   },
   "outputs": [],
   "source": [
    "SELECT DISTINCT *\n",
    "FROM udemyttstorage_catalog.bronze.customers_view\n",
    "WHERE customer_id IS NOT NULL\n",
    "ORDER BY customer_id;"
   ]
  },
  {
   "cell_type": "markdown",
   "metadata": {
    "application/vnd.databricks.v1+cell": {
     "cellMetadata": {},
     "inputWidgets": {},
     "nuid": "8181802a-fe98-4d21-9ce3-43b8c1986e53",
     "showTitle": false,
     "tableResultSettingsMap": {},
     "title": ""
    }
   },
   "source": [
    "3. Remove duplicate records based on created_timestamp"
   ]
  },
  {
   "cell_type": "code",
   "execution_count": 0,
   "metadata": {
    "application/vnd.databricks.v1+cell": {
     "cellMetadata": {},
     "inputWidgets": {},
     "nuid": "0c38fb5a-d8f8-4b26-a668-954eaa16446e",
     "showTitle": false,
     "tableResultSettingsMap": {},
     "title": ""
    }
   },
   "outputs": [],
   "source": [
    "CREATE OR REPLACE TEMP VIEW distinct_customers_view\n",
    "AS\n",
    "SELECT DISTINCT *\n",
    "FROM udemyttstorage_catalog.bronze.customers_view\n",
    "WHERE customer_id IS NOT NULL\n",
    "ORDER BY customer_id;"
   ]
  },
  {
   "cell_type": "code",
   "execution_count": 0,
   "metadata": {
    "application/vnd.databricks.v1+cell": {
     "cellMetadata": {},
     "inputWidgets": {},
     "nuid": "1e489188-3036-48b0-964d-7a24c1c62d89",
     "showTitle": false,
     "tableResultSettingsMap": {},
     "title": ""
    }
   },
   "outputs": [],
   "source": [
    "SELECT customer, MAX(created_timestamp) AS max_created_timestamp\n",
    "FROM distinct_customers_view\n",
    "GROUP BY customer_id;"
   ]
  },
  {
   "cell_type": "code",
   "execution_count": 0,
   "metadata": {
    "application/vnd.databricks.v1+cell": {
     "cellMetadata": {},
     "inputWidgets": {},
     "nuid": "afffd480-a945-46b8-a6ed-abf9c608fecd",
     "showTitle": false,
     "tableResultSettingsMap": {},
     "title": ""
    }
   },
   "outputs": [],
   "source": [
    "WITH cte_max AS\n",
    "(\n",
    "    SELECT\n",
    "        customer_id\n",
    "        MAX(created_timestamp) as max_created_timestamp\n",
    "    FROM distinct_customer_view\n",
    "    GROUP BY customer_id\n",
    ")\n",
    "SELECT\n",
    "FROM distinct_customer_view t\n",
    "JOIN cte_max m\n",
    "    ON t.customer_id = m.customer_id\n",
    "    AND t.created_timestamp = m.created_timestamp; "
   ]
  },
  {
   "cell_type": "markdown",
   "metadata": {
    "application/vnd.databricks.v1+cell": {
     "cellMetadata": {},
     "inputWidgets": {},
     "nuid": "473be760-363a-426f-a65b-063928b09b74",
     "showTitle": false,
     "tableResultSettingsMap": {},
     "title": ""
    }
   },
   "source": [
    "4. CAST the columns to the correct Data Types"
   ]
  },
  {
   "cell_type": "code",
   "execution_count": 0,
   "metadata": {
    "application/vnd.databricks.v1+cell": {
     "cellMetadata": {},
     "inputWidgets": {},
     "nuid": "08297d8e-09b1-4fd0-9819-b454c12931b2",
     "showTitle": false,
     "tableResultSettingsMap": {},
     "title": ""
    }
   },
   "outputs": [],
   "source": [
    "WITH cte_max AS\n",
    "(\n",
    "    SELECT\n",
    "        customer_id\n",
    "        MAX(created_timestamp) as max_created_timestamp\n",
    "    FROM distinct_customer_view\n",
    "    GROUP BY customer_id\n",
    ")\n",
    "SELECT\n",
    "    CAST(t.created_timestamp AS TIMESTAMP) AS max_created_timestamp,\n",
    "    t.customer_id,\n",
    "    t.customer_name,\n",
    "    CAST(t.date_of_birth AS DATE) as date_of_birth,\n",
    "    t.email,\n",
    "    CAST(t.member_since AS DATE) AS member_since,\n",
    "    t.telephone\n",
    "FROM distinct_customer_view t\n",
    "JOIN cte_max m\n",
    "    ON t.customer_id = m.customer_id\n",
    "    AND t.created_timestamp = m.created_timestamp; "
   ]
  },
  {
   "cell_type": "markdown",
   "metadata": {
    "application/vnd.databricks.v1+cell": {
     "cellMetadata": {},
     "inputWidgets": {},
     "nuid": "4ab59815-dd2c-458a-86ec-fb147b9b7e1a",
     "showTitle": false,
     "tableResultSettingsMap": {},
     "title": ""
    }
   },
   "source": [
    "5. Write transformed data ot the Silver schema"
   ]
  },
  {
   "cell_type": "code",
   "execution_count": 0,
   "metadata": {
    "application/vnd.databricks.v1+cell": {
     "cellMetadata": {},
     "inputWidgets": {},
     "nuid": "59aad30b-f9cb-447f-b8f5-1bb0d6adfb87",
     "showTitle": false,
     "tableResultSettingsMap": {},
     "title": ""
    }
   },
   "outputs": [],
   "source": [
    "CREATE OR REPLACE TABLE udemyttstorage_catalog.silver.customers\n",
    "AS\n",
    "WITH cte_max AS\n",
    "    (\n",
    "        SELECT\n",
    "            customer_id\n",
    "            MAX(created_timestamp) as max_created_timestamp\n",
    "        FROM distinct_customer_view\n",
    "        GROUP BY customer_id\n",
    "    )\n",
    "    SELECT\n",
    "        CAST(t.created_timestamp AS TIMESTAMP) AS max_created_timestamp,\n",
    "        t.customer_id,\n",
    "        t.customer_name,\n",
    "        CAST(t.date_of_birth AS DATE) as date_of_birth,\n",
    "        t.email,\n",
    "        CAST(t.member_since AS DATE) AS member_since,\n",
    "        t.telephone\n",
    "    FROM distinct_customer_view t\n",
    "    JOIN cte_max m\n",
    "        ON t.customer_id = m.customer_id\n",
    "        AND t.created_timestamp = m.created_timestamp; "
   ]
  }
 ],
 "metadata": {
  "application/vnd.databricks.v1+notebook": {
   "computePreferences": null,
   "dashboards": [],
   "environmentMetadata": null,
   "inputWidgetPreferences": null,
   "language": "python",
   "notebookMetadata": {
    "pythonIndentUnit": 4
   },
   "notebookName": "10. transform customer data",
   "widgets": {}
  },
  "kernelspec": {
   "display_name": "Python 3 (ipykernel)",
   "language": "python",
   "name": "python3"
  },
  "language_info": {
   "name": "python"
  }
 },
 "nbformat": 4,
 "nbformat_minor": 0
}
