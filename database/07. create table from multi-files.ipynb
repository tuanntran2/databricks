{
 "cells": [
  {
   "cell_type": "markdown",
   "metadata": {
    "application/vnd.databricks.v1+cell": {
     "cellMetadata": {},
     "inputWidgets": {},
     "nuid": "68eaeeee-87fe-4315-8d17-ba9d6204f191",
     "showTitle": false,
     "tableResultSettingsMap": {},
     "title": ""
    }
   },
   "source": [
    "# Create External Tables from Multiple Files"
   ]
  },
  {
   "cell_type": "code",
   "execution_count": 0,
   "metadata": {
    "application/vnd.databricks.v1+cell": {
     "cellMetadata": {
      "byteLimit": 2048000,
      "rowLimit": 10000
     },
     "inputWidgets": {},
     "nuid": "821246e6-5d6a-4252-bea5-c8ca0fed43a2",
     "showTitle": false,
     "tableResultSettingsMap": {},
     "title": ""
    }
   },
   "outputs": [],
   "source": [
    "-- Create an external table from folder containing CSV files\n",
    "\n",
    "CREATE TABLE IF NOT EXISTS f1_raw.lap_times (\n",
    "    raceId INT,\n",
    "    driverId INT,\n",
    "    lap INT,\n",
    "    position INT,\n",
    "    time STRING,\n",
    "    milliseconds INT\n",
    ")\n",
    "USING csv\n",
    "OPTIONS (path \"/mnt/raw/lap_times\")"
   ]
  },
  {
   "cell_type": "code",
   "execution_count": 0,
   "metadata": {
    "application/vnd.databricks.v1+cell": {
     "cellMetadata": {
      "byteLimit": 2048000,
      "rowLimit": 10000
     },
     "inputWidgets": {},
     "nuid": "39a4053a-2be5-43f0-b0f3-ebc619be740f",
     "showTitle": false,
     "tableResultSettingsMap": {},
     "title": ""
    }
   },
   "outputs": [],
   "source": [
    "-- Create an external table from a folder containing multiline JSON files\n",
    "\n",
    "CREATE TABLE IF NOT EXISTS f1_raw.qualifying (\n",
    "    raceId INT,\n",
    "    driverId INT,\n",
    "    constructorId INT,\n",
    "    number INT,\n",
    "    position INT,\n",
    "    q1 STRING,\n",
    "    q2 STRING,\n",
    "    q3 STRING\n",
    ")\n",
    "USING json\n",
    "OPTIONS (path \"/mnt/raw/qualifying\", multiline true)"
   ]
  }
 ],
 "metadata": {
  "application/vnd.databricks.v1+notebook": {
   "computePreferences": null,
   "dashboards": [],
   "environmentMetadata": {
    "base_environment": "",
    "environment_version": "2"
   },
   "inputWidgetPreferences": null,
   "language": "sql",
   "notebookMetadata": {
    "pythonIndentUnit": 4
   },
   "notebookName": "07. create table from multi-files",
   "widgets": {}
  },
  "language_info": {
   "name": "sql"
  }
 },
 "nbformat": 4,
 "nbformat_minor": 0
}
