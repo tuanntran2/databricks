{
 "cells": [
  {
   "cell_type": "markdown",
   "id": "7a0685d6-6e87-46d2-a222-487193e3c05b",
   "metadata": {},
   "source": [
    "# Transform Addresses Data\n",
    "1. Create one record fore each customer with 2 sets of address columns, 1 for shipping and 1 for billing address\n",
    "2. Write transformed data to the Silver schema"
   ]
  },
  {
   "cell_type": "code",
   "execution_count": null,
   "id": "b56291f5-a1ef-42ed-bd87-3172eec8346a",
   "metadata": {},
   "outputs": [],
   "source": [
    "SELECT\n",
    "    customer_id,\n",
    "    address_type,\n",
    "    address_line_1,\n",
    "    city,\n",
    "    state,\n",
    "    postcode\n",
    "FROM udemyttstorage_catalog.bronze.address_view;"
   ]
  },
  {
   "cell_type": "markdown",
   "id": "7428304a-ccee-4d7c-a660-4c1721632fb0",
   "metadata": {},
   "source": [
    "1. Create one record fore each customer with 2 sets of address columns, 1 for shipping and 1 for billing address \\\n",
    "    [Documentation for PIVOT clause](https://learn.microsoft.com/en-us/azure/databricks/sql/language-manual/sql-ref-syntax-qry-select-pivot)"
   ]
  },
  {
   "cell_type": "code",
   "execution_count": null,
   "id": "2d098916-e9c2-4d85-8644-26199ef3000f",
   "metadata": {},
   "outputs": [],
   "source": [
    "SELECT *\n",
    "FROM (\n",
    "    SELECT\n",
    "        customer_id,\n",
    "        address_type,\n",
    "        address_line_1,\n",
    "        city,\n",
    "        state,\n",
    "        postcode\n",
    "    FROM udemyttstorage_catalog.bronze.address_view\n",
    ")\n",
    "PIVOT (\n",
    "    MAX(address_line_1) AS address_line_1,\n",
    "    MAX(city) AS city,\n",
    "    MAX(state) AS state,\n",
    "    MAX(postcode) AS postcode)\n",
    "    FOR address_type IN ('shipping', 'billing')\n",
    ");\n"
   ]
  },
  {
   "cell_type": "markdown",
   "id": "ab87e490-8942-41b4-b430-b5bd9d0ca897",
   "metadata": {},
   "source": [
    "2. Write transformed data to the Silver schema"
   ]
  },
  {
   "cell_type": "code",
   "execution_count": null,
   "id": "21712123-433c-4c39-a9b2-357216b524e6",
   "metadata": {},
   "outputs": [],
   "source": [
    "CREATE OR REPLACE TABLE udemyttstorage_catalog.silver.addresses\n",
    "AS\n",
    "SELECT *\n",
    "FROM (\n",
    "    SELECT\n",
    "        customer_id,\n",
    "        address_type,\n",
    "        address_line_1,\n",
    "        city,\n",
    "        state,\n",
    "        postcode\n",
    "    FROM udemyttstorage_catalog.bronze.address_view\n",
    ")\n",
    "PIVOT (\n",
    "    MAX(address_line_1) AS address_line_1,\n",
    "    MAX(city) AS city,\n",
    "    MAX(state) AS state,\n",
    "    MAX(postcode) AS postcode)\n",
    "    FOR address_type IN ('shipping', 'billing')\n",
    ");"
   ]
  }
 ],
 "metadata": {
  "kernelspec": {
   "display_name": "Python 3 (ipykernel)",
   "language": "python",
   "name": "python3"
  },
  "language_info": {
   "codemirror_mode": {
    "name": "ipython",
    "version": 3
   },
   "file_extension": ".py",
   "mimetype": "text/x-python",
   "name": "python",
   "nbconvert_exporter": "python",
   "pygments_lexer": "ipython3",
   "version": "3.13.3"
  }
 },
 "nbformat": 4,
 "nbformat_minor": 5
}
