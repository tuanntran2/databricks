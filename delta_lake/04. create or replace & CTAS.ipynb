{
 "cells": [
  {
   "cell_type": "markdown",
   "metadata": {
    "application/vnd.databricks.v1+cell": {
     "cellMetadata": {},
     "inputWidgets": {},
     "nuid": "85eb4e49-cb77-4c98-992d-c0af5e7679de",
     "showTitle": false,
     "tableResultSettingsMap": {},
     "title": ""
    }
   },
   "source": [
    "# Create or Replace & CTAS\n",
    "1. Difference between Create or Replace vs Drop and Create Table statements\n",
    "2. CTAS statement"
   ]
  },
  {
   "cell_type": "markdown",
   "metadata": {
    "application/vnd.databricks.v1+cell": {
     "cellMetadata": {},
     "inputWidgets": {},
     "nuid": "0a81a6e0-a849-4b66-9f14-7d0729e17732",
     "showTitle": false,
     "tableResultSettingsMap": {},
     "title": ""
    }
   },
   "source": [
    "1. Difference between Create or Replace vs Drop and Create Table"
   ]
  },
  {
   "cell_type": "markdown",
   "metadata": {
    "application/vnd.databricks.v1+cell": {
     "cellMetadata": {},
     "inputWidgets": {},
     "nuid": "bfb7119a-b4d9-401e-9707-6e3e36039027",
     "showTitle": false,
     "tableResultSettingsMap": {},
     "title": ""
    }
   },
   "source": [
    "Behavior of the DROP and CREATE statement"
   ]
  },
  {
   "cell_type": "code",
   "execution_count": 0,
   "metadata": {
    "application/vnd.databricks.v1+cell": {
     "cellMetadata": {
      "byteLimit": 2048000,
      "rowLimit": 10000
     },
     "inputWidgets": {},
     "nuid": "3ee7229c-610b-48f9-a714-3e444ff6f669",
     "showTitle": false,
     "tableResultSettingsMap": {},
     "title": ""
    }
   },
   "outputs": [],
   "source": [
    "-- DROP TABLE IF EXISTS delta_lake.test_table;\n",
    "\n",
    "CREATE OR REPLACE TABLE delta_lake.test_table(\n",
    "  id BIGINT NOT NULL GENERATED ALWAYS AS IDENTITY (START WITH 100 INCREMENT BY 10),\n",
    "  name STRING COMMENT 'Provide a comment for the column',\n",
    "  dob DATE,\n",
    "  birth_year INT GENERATED ALWAYS AS (YEAR(dob))\n",
    ")\n",
    "COMMENT 'Provide a comment for the table here'\n",
    "TBLPROPERTIES (\n",
    "  'sensitive'='true',\n",
    "  delta.checkpoint.writeStatsAsJson=true\n",
    ");\n",
    "\n",
    "INSERT INTO delta_lake.test_table\n",
    "(name, dob)\n",
    "VALUES\n",
    "('Tom', '1970-01-01'),\n",
    "('Tiffany', '1973-01-01'),\n",
    "('Jeff', '1992-01-01'),\n",
    "('Jane', '2001-01-01');"
   ]
  },
  {
   "cell_type": "code",
   "execution_count": 0,
   "metadata": {
    "application/vnd.databricks.v1+cell": {
     "cellMetadata": {
      "byteLimit": 2048000,
      "rowLimit": 10000
     },
     "inputWidgets": {},
     "nuid": "97f2d662-0c5d-496d-973f-124d2573e676",
     "showTitle": false,
     "tableResultSettingsMap": {},
     "title": ""
    }
   },
   "outputs": [],
   "source": [
    "DESC HISTORY delta_lake.test_table;"
   ]
  },
  {
   "cell_type": "markdown",
   "metadata": {
    "application/vnd.databricks.v1+cell": {
     "cellMetadata": {},
     "inputWidgets": {},
     "nuid": "ff159897-b305-4fb8-990e-3f0aa9ed801f",
     "showTitle": false,
     "tableResultSettingsMap": {},
     "title": ""
    }
   },
   "source": [
    "2. CTAS statement"
   ]
  },
  {
   "cell_type": "code",
   "execution_count": 0,
   "metadata": {
    "application/vnd.databricks.v1+cell": {
     "cellMetadata": {
      "byteLimit": 2048000,
      "rowLimit": 10000
     },
     "inputWidgets": {},
     "nuid": "9215332e-fbfb-4216-869b-2bf61b69ebbe",
     "showTitle": false,
     "tableResultSettingsMap": {},
     "title": ""
    }
   },
   "outputs": [],
   "source": [
    "CREATE TABLE delta_lake.test_table2\n",
    "AS\n",
    "SELECT * FROM delta_lake.test_table\n",
    "WHERE name LIKE 'J%'"
   ]
  },
  {
   "cell_type": "code",
   "execution_count": 0,
   "metadata": {
    "application/vnd.databricks.v1+cell": {
     "cellMetadata": {
      "byteLimit": 2048000,
      "rowLimit": 10000
     },
     "inputWidgets": {},
     "nuid": "2edef45a-6278-4b50-8592-70e5bcf95b9d",
     "showTitle": false,
     "tableResultSettingsMap": {},
     "title": ""
    }
   },
   "outputs": [],
   "source": [
    "DESC HISTORY delta_lake.test_table2;"
   ]
  },
  {
   "cell_type": "markdown",
   "metadata": {
    "application/vnd.databricks.v1+cell": {
     "cellMetadata": {},
     "inputWidgets": {},
     "nuid": "c0a3a9c5-ba34-471c-a8c2-cc524c0ec272",
     "showTitle": false,
     "tableResultSettingsMap": {},
     "title": ""
    }
   },
   "source": [
    "One limitation with CTSA is no control over the column properties. \\\n",
    "However, there are a couple of work arounds."
   ]
  },
  {
   "cell_type": "markdown",
   "metadata": {
    "application/vnd.databricks.v1+cell": {
     "cellMetadata": {},
     "inputWidgets": {},
     "nuid": "6bafdd24-953c-42f1-b848-441819ee4a87",
     "showTitle": false,
     "tableResultSettingsMap": {},
     "title": ""
    }
   },
   "source": [
    "CAST column data type"
   ]
  },
  {
   "cell_type": "code",
   "execution_count": 0,
   "metadata": {
    "application/vnd.databricks.v1+cell": {
     "cellMetadata": {
      "byteLimit": 2048000,
      "rowLimit": 10000
     },
     "inputWidgets": {},
     "nuid": "3bd0c483-57e9-480c-b0a7-457d0a9ea666",
     "showTitle": false,
     "tableResultSettingsMap": {},
     "title": ""
    }
   },
   "outputs": [],
   "source": [
    "DROP TABLE IF EXISTS delta_lake.test_table2;\n",
    "\n",
    "CREATE TABLE delta_lake.test_table2\n",
    "AS\n",
    "SELECT\n",
    "  CAST(id AS INT) as id,\n",
    "  name,\n",
    "  dob,\n",
    "  birth_year\n",
    "FROM delta_lake.test_table\n",
    "WHERE name LIKE 'J%';"
   ]
  },
  {
   "cell_type": "markdown",
   "metadata": {
    "application/vnd.databricks.v1+cell": {
     "cellMetadata": {},
     "inputWidgets": {},
     "nuid": "33359a49-71d2-4e6e-b3a7-421ca558f0ae",
     "showTitle": false,
     "tableResultSettingsMap": {},
     "title": ""
    }
   },
   "source": [
    "\"ALTER\" column properties"
   ]
  },
  {
   "cell_type": "code",
   "execution_count": 0,
   "metadata": {
    "application/vnd.databricks.v1+cell": {
     "cellMetadata": {
      "byteLimit": 2048000,
      "rowLimit": 10000
     },
     "inputWidgets": {},
     "nuid": "b276d4d0-7d2f-437a-a2e9-b2fc2202efd3",
     "showTitle": false,
     "tableResultSettingsMap": {},
     "title": ""
    }
   },
   "outputs": [],
   "source": [
    "ALTER TABLE delta_lake.test_table2\n",
    "  ALTER COLUMN id SET NOT NULL;\n",
    "  \n",
    "ALTER TABLE delta_lake.test_table2\n",
    "  ALTER COLUMN birth_year COMMENT 'born year';"
   ]
  },
  {
   "cell_type": "code",
   "execution_count": 0,
   "metadata": {
    "application/vnd.databricks.v1+cell": {
     "cellMetadata": {
      "byteLimit": 2048000,
      "rowLimit": 10000
     },
     "inputWidgets": {},
     "nuid": "e590f56f-2e96-4ff8-b324-42e92368c74d",
     "showTitle": false,
     "tableResultSettingsMap": {},
     "title": ""
    }
   },
   "outputs": [],
   "source": [
    "DESC EXTENDED delta_lake.test_table2;"
   ]
  }
 ],
 "metadata": {
  "application/vnd.databricks.v1+notebook": {
   "computePreferences": null,
   "dashboards": [],
   "environmentMetadata": {
    "base_environment": "",
    "environment_version": "2"
   },
   "inputWidgetPreferences": null,
   "language": "sql",
   "notebookMetadata": {
    "pythonIndentUnit": 4
   },
   "notebookName": "04. create or replace & CTAS",
   "widgets": {}
  },
  "language_info": {
   "name": "sql"
  }
 },
 "nbformat": 4,
 "nbformat_minor": 0
}
