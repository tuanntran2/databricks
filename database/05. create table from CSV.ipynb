{
 "cells": [
  {
   "cell_type": "markdown",
   "metadata": {
    "application/vnd.databricks.v1+cell": {
     "cellMetadata": {},
     "inputWidgets": {},
     "nuid": "21ac9aaa-17af-4e12-a474-0e3e12417bfb",
     "showTitle": false,
     "tableResultSettingsMap": {},
     "title": ""
    }
   },
   "source": [
    "# Create External Tables from CSV files"
   ]
  },
  {
   "cell_type": "code",
   "execution_count": 0,
   "metadata": {
    "application/vnd.databricks.v1+cell": {
     "cellMetadata": {
      "byteLimit": 2048000,
      "rowLimit": 10000
     },
     "inputWidgets": {},
     "nuid": "f64b2c84-c850-440f-8db9-d283c177bc65",
     "showTitle": false,
     "tableResultSettingsMap": {},
     "title": ""
    }
   },
   "outputs": [],
   "source": [
    "DROP DATABASE f1_raw CASCADE;\n",
    "CREATE DATABASE IF NOT EXISTS f1_raw;"
   ]
  },
  {
   "cell_type": "code",
   "execution_count": 0,
   "metadata": {
    "application/vnd.databricks.v1+cell": {
     "cellMetadata": {
      "byteLimit": 2048000,
      "rowLimit": 10000
     },
     "inputWidgets": {},
     "nuid": "66d1efaf-a5db-4a46-946f-e86fc7fc3ad9",
     "showTitle": false,
     "tableResultSettingsMap": {},
     "title": ""
    }
   },
   "outputs": [],
   "source": [
    "CREATE TABLE IF NOT EXISTS f1_raw.circuits (\n",
    "    circuitId INT,\n",
    "    circuitRef STRING,\n",
    "    name STRING,\n",
    "    location STRING,\n",
    "    country STRING,\n",
    "    lat DOUBLE,\n",
    "    lng DOUBLE,\n",
    "    alt INT,\n",
    "    url STRING\n",
    ")\n",
    "USING csv\n",
    "OPTIONS (path \"/mnt/raw/circuits.csv\", header true)\n"
   ]
  },
  {
   "cell_type": "code",
   "execution_count": 0,
   "metadata": {
    "application/vnd.databricks.v1+cell": {
     "cellMetadata": {
      "byteLimit": 2048000,
      "rowLimit": 10000
     },
     "inputWidgets": {},
     "nuid": "6682fa8a-8d57-49f6-951b-4f51eaf058da",
     "showTitle": false,
     "tableResultSettingsMap": {},
     "title": ""
    }
   },
   "outputs": [],
   "source": [
    "CREATE TABLE IF NOT EXISTS f1_raw.races (\n",
    "    raceId INT,\n",
    "    year INT,\n",
    "    round INT,\n",
    "    circuitId INT,\n",
    "    name STRING,\n",
    "    date DATE,\n",
    "    time STRING\n",
    ")\n",
    "USING csv\n",
    "OPTIONS (path \"/mnt/raw/races.csv\", header true)"
   ]
  }
 ],
 "metadata": {
  "application/vnd.databricks.v1+notebook": {
   "computePreferences": null,
   "dashboards": [],
   "environmentMetadata": {
    "base_environment": "",
    "environment_version": "2"
   },
   "inputWidgetPreferences": null,
   "language": "sql",
   "notebookMetadata": {
    "pythonIndentUnit": 4
   },
   "notebookName": "05. create table from CSV",
   "widgets": {}
  },
  "language_info": {
   "name": "sql"
  }
 },
 "nbformat": 4,
 "nbformat_minor": 0
}
