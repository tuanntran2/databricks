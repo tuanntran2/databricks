{
 "cells": [
  {
   "cell_type": "code",
   "execution_count": 0,
   "metadata": {
    "application/vnd.databricks.v1+cell": {
     "cellMetadata": {
      "byteLimit": 2048000,
      "rowLimit": 10000
     },
     "inputWidgets": {},
     "nuid": "478bdddc-8df6-4184-b489-da229313fc92",
     "showTitle": false,
     "tableResultSettingsMap": {},
     "title": ""
    }
   },
   "outputs": [],
   "source": [
    "select *\n",
    "from presentation.driver_standings;"
   ]
  },
  {
   "cell_type": "code",
   "execution_count": 0,
   "metadata": {
    "application/vnd.databricks.v1+cell": {
     "cellMetadata": {
      "byteLimit": 2048000,
      "rowLimit": 10000
     },
     "inputWidgets": {},
     "nuid": "22ba7802-853f-4571-94cc-c97e97c2dc53",
     "showTitle": false,
     "tableResultSettingsMap": {},
     "title": ""
    }
   },
   "outputs": [],
   "source": [
    "create or replace temp view driver_standings_view_2018\n",
    "as\n",
    "select race_year, driver_name, team, total_points, wins, rank\n",
    "from presentation.driver_standings\n",
    "where race_year = 2018;"
   ]
  },
  {
   "cell_type": "code",
   "execution_count": 0,
   "metadata": {
    "application/vnd.databricks.v1+cell": {
     "cellMetadata": {
      "byteLimit": 2048000,
      "rowLimit": 10000
     },
     "inputWidgets": {},
     "nuid": "a58ee966-fe97-4860-8b94-bdb2c7b60247",
     "showTitle": false,
     "tableResultSettingsMap": {},
     "title": ""
    }
   },
   "outputs": [],
   "source": [
    "create or replace temp view driver_standings_view_2020\n",
    "as\n",
    "select race_year, driver_name, team, total_points, wins, rank\n",
    "from presentation.driver_standings\n",
    "where race_year = 2020;"
   ]
  },
  {
   "cell_type": "code",
   "execution_count": 0,
   "metadata": {
    "application/vnd.databricks.v1+cell": {
     "cellMetadata": {
      "byteLimit": 2048000,
      "rowLimit": 10000
     },
     "inputWidgets": {},
     "nuid": "45b5acc6-dfc5-4238-8dff-bdc7756f72a0",
     "showTitle": false,
     "tableResultSettingsMap": {},
     "title": ""
    }
   },
   "outputs": [],
   "source": [
    "-- Inner join - returns data that exist in both tables\n",
    "select *\n",
    "from driver_standings_view_2018 d_2018\n",
    "join driver_standings_view_2020 d_2020\n",
    "on d_2018.driver_name = d_2020.driver_name"
   ]
  },
  {
   "cell_type": "code",
   "execution_count": 0,
   "metadata": {
    "application/vnd.databricks.v1+cell": {
     "cellMetadata": {
      "byteLimit": 2048000,
      "rowLimit": 10000
     },
     "inputWidgets": {},
     "nuid": "704e5b6f-a8fa-4965-a4a6-9387e54ef8a1",
     "showTitle": false,
     "tableResultSettingsMap": {},
     "title": ""
    }
   },
   "outputs": [],
   "source": [
    "-- Left join - returns data that exist in left table\n",
    "select *\n",
    "from driver_standings_view_2018 d_2018\n",
    "left join driver_standings_view_2020 d_2020\n",
    "on d_2018.driver_name = d_2020.driver_name"
   ]
  },
  {
   "cell_type": "code",
   "execution_count": 0,
   "metadata": {
    "application/vnd.databricks.v1+cell": {
     "cellMetadata": {
      "byteLimit": 2048000,
      "rowLimit": 10000
     },
     "inputWidgets": {},
     "nuid": "51ff6348-aa6d-43d3-8916-d23e23b86342",
     "showTitle": false,
     "tableResultSettingsMap": {},
     "title": ""
    }
   },
   "outputs": [],
   "source": [
    "-- Right join - returns data that exist in right table\n",
    "select *\n",
    "from driver_standings_view_2018 d_2018\n",
    "right join driver_standings_view_2020 d_2020\n",
    "on d_2018.driver_name = d_2020.driver_name"
   ]
  },
  {
   "cell_type": "code",
   "execution_count": 0,
   "metadata": {
    "application/vnd.databricks.v1+cell": {
     "cellMetadata": {
      "byteLimit": 2048000,
      "rowLimit": 10000
     },
     "inputWidgets": {},
     "nuid": "6abae1d9-51c8-48ef-bb19-471caa2e86d2",
     "showTitle": false,
     "tableResultSettingsMap": {},
     "title": ""
    }
   },
   "outputs": [],
   "source": [
    "-- Full join - returns data that exist in either table\n",
    "select *\n",
    "from driver_standings_view_2018 d_2018\n",
    "full join driver_standings_view_2020 d_2020\n",
    "on d_2018.driver_name = d_2020.driver_name"
   ]
  },
  {
   "cell_type": "code",
   "execution_count": 0,
   "metadata": {
    "application/vnd.databricks.v1+cell": {
     "cellMetadata": {
      "byteLimit": 2048000,
      "rowLimit": 10000
     },
     "inputWidgets": {},
     "nuid": "f63d204b-f29d-43b7-a900-14be3af3fc73",
     "showTitle": false,
     "tableResultSettingsMap": {},
     "title": ""
    }
   },
   "outputs": [],
   "source": [
    "-- semi join - returns data from the left table if exists in the right table\n",
    "select *\n",
    "from driver_standings_view_2018 d_2018\n",
    "semi join driver_standings_view_2020 d_2020\n",
    "on d_2018.driver_name = d_2020.driver_name"
   ]
  },
  {
   "cell_type": "code",
   "execution_count": 0,
   "metadata": {
    "application/vnd.databricks.v1+cell": {
     "cellMetadata": {
      "byteLimit": 2048000,
      "rowLimit": 10000
     },
     "inputWidgets": {},
     "nuid": "1c995c66-9a41-41c1-84bd-9a3b1202e988",
     "showTitle": false,
     "tableResultSettingsMap": {},
     "title": ""
    }
   },
   "outputs": [],
   "source": [
    "-- anti join - returns data from the left table if not exists in the right table\n",
    "select *\n",
    "from driver_standings_view_2018 d_2018\n",
    "anti join driver_standings_view_2020 d_2020\n",
    "on d_2018.driver_name = d_2020.driver_name"
   ]
  },
  {
   "cell_type": "code",
   "execution_count": 0,
   "metadata": {
    "application/vnd.databricks.v1+cell": {
     "cellMetadata": {
      "byteLimit": 2048000,
      "rowLimit": 10000
     },
     "inputWidgets": {},
     "nuid": "9f35b385-6760-41c2-85fd-bd728b438a4c",
     "showTitle": false,
     "tableResultSettingsMap": {},
     "title": ""
    }
   },
   "outputs": [],
   "source": [
    "select *\n",
    "from driver_standings_view_2018 d_2018\n",
    "cross join driver_standings_view_2020 d_2020\n"
   ]
  }
 ],
 "metadata": {
  "application/vnd.databricks.v1+notebook": {
   "computePreferences": null,
   "dashboards": [],
   "environmentMetadata": {
    "base_environment": "",
    "environment_version": "2"
   },
   "inputWidgetPreferences": null,
   "language": "sql",
   "notebookMetadata": {},
   "notebookName": "10. join",
   "widgets": {}
  },
  "language_info": {
   "name": "sql"
  }
 },
 "nbformat": 4,
 "nbformat_minor": 0
}
