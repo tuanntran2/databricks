{
 "cells": [
  {
   "cell_type": "markdown",
   "metadata": {
    "application/vnd.databricks.v1+cell": {
     "cellMetadata": {},
     "inputWidgets": {},
     "nuid": "f8d2e136-8b41-498a-b001-2106aec9a4c8",
     "showTitle": false,
     "tableResultSettingsMap": {},
     "title": ""
    }
   },
   "source": [
    "# Process the Customers Data\n",
    "1. Ingest the data into the ata lakehouse - bronze_customers\n",
    "2. Perform data quality checks and transform the data as requied - silver_customers_clean\n",
    "3. Apply changes to the customers data - silver_customers"
   ]
  },
  {
   "cell_type": "markdown",
   "metadata": {
    "application/vnd.databricks.v1+cell": {
     "cellMetadata": {
      "byteLimit": 2048000,
      "rowLimit": 10000
     },
     "inputWidgets": {},
     "nuid": "1bf0bb7c-0a81-4736-80b4-50a8c8a561c2",
     "showTitle": false,
     "tableResultSettingsMap": {},
     "title": ""
    }
   },
   "source": [
    "1. Ingest the data into the data lakehouse - bronze_customers"
   ]
  },
  {
   "cell_type": "code",
   "execution_count": 0,
   "metadata": {
    "application/vnd.databricks.v1+cell": {
     "cellMetadata": {
      "byteLimit": 2048000,
      "rowLimit": 10000
     },
     "inputWidgets": {},
     "nuid": "21e1b2aa-2f92-4efb-a9b6-42cf5f9950d6",
     "showTitle": false,
     "tableResultSettingsMap": {},
     "title": ""
    }
   },
   "outputs": [],
   "source": [
    "-- This operation requires unity catalog\n",
    "\n",
    "CREATE OR REFRESH STREAMING TABLE bronze_customers\n",
    "COMMENT 'Raw customers data ingested from the source system operational data'\n",
    "TBLPROPERTIES ('quality' = 'bronze')\n",
    "AS\n",
    "SELECT\n",
    "  *,\n",
    "  _metadata.file_path AS input_file_path,\n",
    "  CURRENT_TIMESTAMP AS ingestion_timestamp\n",
    "FROM cloud_files(\n",
    "  '/Volume/circuitbox/landing/operational_data/customers',\n",
    "  'json',\n",
    "  map('cloudFiles.inferColumntypes', 'true')\n",
    ");"
   ]
  },
  {
   "cell_type": "markdown",
   "metadata": {
    "application/vnd.databricks.v1+cell": {
     "cellMetadata": {},
     "inputWidgets": {},
     "nuid": "07d62ec6-aac8-46ff-80dd-c185cfabe6ee",
     "showTitle": false,
     "tableResultSettingsMap": {},
     "title": ""
    }
   },
   "source": [
    "2. Perform data quality checks and transform the data as required - silver_customers_clean"
   ]
  },
  {
   "cell_type": "code",
   "execution_count": 0,
   "metadata": {
    "application/vnd.databricks.v1+cell": {
     "cellMetadata": {},
     "inputWidgets": {},
     "nuid": "11fe2280-f21b-49ff-88b2-9773bae9dd4f",
     "showTitle": false,
     "tableResultSettingsMap": {},
     "title": ""
    }
   },
   "outputs": [],
   "source": [
    "CREATE OR REFRESH STREAMING TABLE silver_customers_clean(\n",
    "  CONSTRAINT valid_customer_id EXPECT (customer_id IS NOT NULL) ON VIOLATION FAIL UPDATE,\n",
    "  CONSTRAINT valid_customer_name EXPECT (customer_name IS NOT NULL) ON VIOLATION DROP ROW,\n",
    "  CONSTRAINT valid_telephone EXPECT (LENGTH(telephone) >= 10),\n",
    "  CONSTRAINT valid_email EXPECT (email IS NOT NULL),\n",
    "  CONSTRAINT valid_date_of_birth EXPECT (date_of_birth >= '1920-01-01')\n",
    ")\n",
    "COMMENT 'cleaned customer data'\n",
    "TBLPROPERTIES('quality', 'true')\n",
    "AS\n",
    "SELECT\n",
    "  customer_id,\n",
    "  customer_name,\n",
    "  CAST(date_of_birth AS DATE) AS date_of_birth,\n",
    "  telephone,\n",
    "  email,\n",
    "  CAST(created_date AS DATE) AS created_date\n",
    "FROM STREAM(LIVE.bronze_customers)"
   ]
  },
  {
   "cell_type": "markdown",
   "metadata": {
    "application/vnd.databricks.v1+cell": {
     "cellMetadata": {},
     "inputWidgets": {},
     "nuid": "c655a0ee-dfda-4f56-9e8f-7cb4d586839c",
     "showTitle": false,
     "tableResultSettingsMap": {},
     "title": ""
    }
   },
   "source": [
    "3. Apply changes to the Customers Data - silver_customers"
   ]
  },
  {
   "cell_type": "code",
   "execution_count": 0,
   "metadata": {
    "application/vnd.databricks.v1+cell": {
     "cellMetadata": {},
     "inputWidgets": {},
     "nuid": "02790893-5499-458b-a69b-c4ad3bda8b3e",
     "showTitle": false,
     "tableResultSettingsMap": {},
     "title": ""
    }
   },
   "outputs": [],
   "source": [
    "CREATE OR REFRESH STREAMING TABLE silver_customers\n",
    "COMMENT 'SCD Type 1 customers data'\n",
    "TBLPROPERTIES(\"quality\" = \"true\")"
   ]
  },
  {
   "cell_type": "code",
   "execution_count": 0,
   "metadata": {
    "application/vnd.databricks.v1+cell": {
     "cellMetadata": {},
     "inputWidgets": {},
     "nuid": "d353b5b3-e0d1-4f44-97d9-15175833449d",
     "showTitle": false,
     "tableResultSettingsMap": {},
     "title": ""
    }
   },
   "outputs": [],
   "source": [
    "APPLY CHANGES INTO LIVE.silver_customers\n",
    "FROM STREAM(LIVE.silver_customers_clean)\n",
    "KEYS (customer_id)\n",
    "SEQUENCE BY created_date\n",
    "STORED AS SCD TYPE 1; -- Optional as type 1 is the default option"
   ]
  }
 ],
 "metadata": {
  "application/vnd.databricks.v1+notebook": {
   "computePreferences": null,
   "dashboards": [],
   "environmentMetadata": {
    "base_environment": "",
    "environment_version": "2"
   },
   "inputWidgetPreferences": null,
   "language": "sql",
   "notebookMetadata": {
    "mostRecentlyExecutedCommandWithImplicitDF": {
     "commandId": 8269505658528943,
     "dataframes": [
      "_sqldf"
     ]
    },
    "pythonIndentUnit": 4
   },
   "notebookName": "02. process customers data",
   "widgets": {}
  },
  "language_info": {
   "name": "sql"
  }
 },
 "nbformat": 4,
 "nbformat_minor": 0
}
