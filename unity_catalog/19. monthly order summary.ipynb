{
 "cells": [
  {
   "cell_type": "markdown",
   "metadata": {
    "application/vnd.databricks.v1+cell": {
     "cellMetadata": {},
     "inputWidgets": {},
     "nuid": "91c2352c-c186-43bd-9e5e-73de41703405",
     "showTitle": false,
     "tableResultSettingsMap": {},
     "title": ""
    }
   },
   "source": [
    "# Monthly Order Summary\n",
    "For each of the customer, produce the following summary per month\n",
    "1. total orders\n",
    "2. total items bought\n",
    "3. total amount spent"
   ]
  },
  {
   "cell_type": "code",
   "execution_count": 0,
   "metadata": {
    "application/vnd.databricks.v1+cell": {
     "cellMetadata": {
      "byteLimit": 2048000,
      "rowLimit": 10000
     },
     "inputWidgets": {},
     "nuid": "53bda938-6e49-4ede-a3fa-4a1de977a3c9",
     "showTitle": false,
     "tableResultSettingsMap": {},
     "title": ""
    }
   },
   "outputs": [],
   "source": [
    "SELECT * FROM silver.orders;"
   ]
  },
  {
   "cell_type": "code",
   "execution_count": 0,
   "metadata": {
    "application/vnd.databricks.v1+cell": {
     "cellMetadata": {
      "byteLimit": 2048000,
      "rowLimit": 10000
     },
     "inputWidgets": {},
     "nuid": "17a1e08d-9104-4530-9f2a-02b36b1884b7",
     "showTitle": false,
     "tableResultSettingsMap": {},
     "title": ""
    }
   },
   "outputs": [],
   "source": [
    "SELECT\n",
    "  date_format(transaction_timestamp, \"yyyy-MM\") AS order_month,\n",
    "  customer_id,\n",
    "  COUNT(DISTINCT order_id) AS total_orders,\n",
    "  SUM(quantity) AS total_item_bought,\n",
    "  SUM(quantity * price) AS total_amount_spent\n",
    "FROM silver.orders\n",
    "GROUP BY order_month, customer_id\n",
    "ORDER BY order_month ASC;"
   ]
  },
  {
   "cell_type": "code",
   "execution_count": 0,
   "metadata": {
    "application/vnd.databricks.v1+cell": {
     "cellMetadata": {
      "byteLimit": 2048000,
      "rowLimit": 10000
     },
     "inputWidgets": {},
     "nuid": "772dc902-5a91-4f41-9251-470d273f6f2b",
     "showTitle": false,
     "tableResultSettingsMap": {},
     "title": ""
    }
   },
   "outputs": [],
   "source": [
    "CREATE OR REPLACE TABLE gold.order_summary_monthly\n",
    "AS\n",
    "SELECT\n",
    "  date_format(transaction_timestamp, \"yyyy-MM\") AS order_month,\n",
    "  customer_id,\n",
    "  COUNT(DISTINCT order_id) AS total_orders,\n",
    "  SUM(quantity) AS total_item_bought,\n",
    "  SUM(quantity * price) AS total_amount_spent\n",
    "FROM silver.orders\n",
    "GROUP BY order_month, customer_id\n",
    "ORDER BY order_month ASC;"
   ]
  }
 ],
 "metadata": {
  "application/vnd.databricks.v1+notebook": {
   "computePreferences": null,
   "dashboards": [],
   "environmentMetadata": {
    "base_environment": "",
    "environment_version": "2"
   },
   "inputWidgetPreferences": null,
   "language": "sql",
   "notebookMetadata": {},
   "notebookName": "19. monthly order summary",
   "widgets": {}
  },
  "language_info": {
   "name": "sql"
  }
 },
 "nbformat": 4,
 "nbformat_minor": 0
}
