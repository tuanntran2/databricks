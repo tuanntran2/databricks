{
 "cells": [
  {
   "cell_type": "markdown",
   "metadata": {
    "application/vnd.databricks.v1+cell": {
     "cellMetadata": {},
     "inputWidgets": {},
     "nuid": "4c475505-5006-4542-b514-67ee3535ccbe",
     "showTitle": false,
     "tableResultSettingsMap": {},
     "title": ""
    }
   },
   "source": [
    "# Join Customer and Address\n",
    "Join customer data with address data to create a customer_address table which contains the address of each customer on the same record"
   ]
  },
  {
   "cell_type": "code",
   "execution_count": 0,
   "metadata": {
    "application/vnd.databricks.v1+cell": {
     "cellMetadata": {
      "byteLimit": 2048000,
      "rowLimit": 10000
     },
     "inputWidgets": {},
     "nuid": "8613ca9a-0066-4fa2-9747-dbf3f9242169",
     "showTitle": false,
     "tableResultSettingsMap": {},
     "title": ""
    }
   },
   "outputs": [],
   "source": [
    "SELECT * FROM silver.customers;"
   ]
  },
  {
   "cell_type": "code",
   "execution_count": 0,
   "metadata": {
    "application/vnd.databricks.v1+cell": {
     "cellMetadata": {
      "byteLimit": 2048000,
      "rowLimit": 10000
     },
     "inputWidgets": {},
     "nuid": "1ae83475-74d0-4b36-bd3a-bf3d7858b63e",
     "showTitle": false,
     "tableResultSettingsMap": {},
     "title": ""
    }
   },
   "outputs": [],
   "source": [
    "SELECT * FROM silver.addresses;"
   ]
  },
  {
   "cell_type": "code",
   "execution_count": 0,
   "metadata": {
    "application/vnd.databricks.v1+cell": {
     "cellMetadata": {
      "byteLimit": 2048000,
      "rowLimit": 10000
     },
     "inputWidgets": {},
     "nuid": "38cc5a9d-8887-469e-a60a-7f00c893a791",
     "showTitle": false,
     "tableResultSettingsMap": {},
     "title": ""
    }
   },
   "outputs": [],
   "source": [
    "SELECT\n",
    "  c.customer_id,\n",
    "  c.customer_name,\n",
    "  c.date_of_birth,\n",
    "  c.member_since,\n",
    "  c.telephone,\n",
    "  a.shipping_address_line_1,\n",
    "  a.shipping_city,\n",
    "  a.shipping_state,\n",
    "  a.shipping_postcode,\n",
    "  a.billing_address_line_1,\n",
    "  a.billing_city,\n",
    "  a.billing_state,\n",
    "  a.billing_postcode\n",
    "FROM silver.customers c\n",
    "JOIN silver.addresses a\n",
    "ON c.customer_id = a.customer_id"
   ]
  },
  {
   "cell_type": "code",
   "execution_count": 0,
   "metadata": {
    "application/vnd.databricks.v1+cell": {
     "cellMetadata": {
      "byteLimit": 2048000,
      "rowLimit": 10000
     },
     "inputWidgets": {},
     "nuid": "ba064343-937f-4331-8168-8d0ebf2de1ed",
     "showTitle": false,
     "tableResultSettingsMap": {},
     "title": ""
    }
   },
   "outputs": [],
   "source": [
    "CREATE OR REPLACE TABLE gold.customer_address\n",
    "AS\n",
    "SELECT\n",
    "  c.customer_id,\n",
    "  c.customer_name,\n",
    "  c.date_of_birth,\n",
    "  c.member_since,\n",
    "  c.telephone,\n",
    "  a.shipping_address_line_1,\n",
    "  a.shipping_city,\n",
    "  a.shipping_state,\n",
    "  a.shipping_postcode,\n",
    "  a.billing_address_line_1,\n",
    "  a.billing_city,\n",
    "  a.billing_state,\n",
    "  a.billing_postcode\n",
    "FROM silver.customers c\n",
    "JOIN silver.addresses a\n",
    "ON c.customer_id = a.customer_id"
   ]
  }
 ],
 "metadata": {
  "application/vnd.databricks.v1+notebook": {
   "computePreferences": null,
   "dashboards": [],
   "environmentMetadata": {
    "base_environment": "",
    "environment_version": "2"
   },
   "inputWidgetPreferences": null,
   "language": "sql",
   "notebookMetadata": {
    "pythonIndentUnit": 4
   },
   "notebookName": "18. join customer address",
   "widgets": {}
  },
  "language_info": {
   "name": "sql"
  }
 },
 "nbformat": 4,
 "nbformat_minor": 0
}
