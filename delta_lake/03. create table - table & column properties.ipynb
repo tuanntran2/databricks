{
 "cells": [
  {
   "cell_type": "markdown",
   "metadata": {
    "application/vnd.databricks.v1+cell": {
     "cellMetadata": {},
     "inputWidgets": {},
     "nuid": "6d7b8461-2ef3-411b-b9b1-6bed5e1183ce",
     "showTitle": false,
     "tableResultSettingsMap": {},
     "title": ""
    }
   },
   "source": [
    "# Create Table - Table & Column Properties\n",
    "Demonstrate adding Table and Column Properties to the CREATE TABLE statement."
   ]
  },
  {
   "cell_type": "markdown",
   "metadata": {
    "application/vnd.databricks.v1+cell": {
     "cellMetadata": {},
     "inputWidgets": {},
     "nuid": "b0d61392-82da-44f4-af93-4b1ecec3c6eb",
     "showTitle": false,
     "tableResultSettingsMap": {},
     "title": ""
    }
   },
   "source": [
    "## 1. Table Properties\n",
    "1.1. COMMENT - document the purpose of the table\\\n",
    "1.2. TBLPROPERTIES -specify table level metadata or configuration settings"
   ]
  },
  {
   "cell_type": "code",
   "execution_count": 0,
   "metadata": {
    "application/vnd.databricks.v1+cell": {
     "cellMetadata": {
      "byteLimit": 2048000,
      "rowLimit": 10000
     },
     "inputWidgets": {},
     "nuid": "04107d7a-6499-4791-9e96-c32983ca9a10",
     "showTitle": false,
     "tableResultSettingsMap": {},
     "title": ""
    }
   },
   "outputs": [],
   "source": [
    "-- DROP TABLE IF EXISTS delta_lake.test_table;\n",
    "CREATE OR REPLACE TABLE delta_lake.test_table(\n",
    "  id INT,\n",
    "  name STRING,\n",
    "  dob DATE\n",
    ")\n",
    "COMMENT 'Provide a comment for the table here.'\n",
    "TBLPROPERTIES (\n",
    "  'sensitive'='true',\n",
    "  delta.checkpoint.writeStatsAsJson=true\n",
    ");"
   ]
  },
  {
   "cell_type": "code",
   "execution_count": 0,
   "metadata": {
    "application/vnd.databricks.v1+cell": {
     "cellMetadata": {
      "byteLimit": 2048000,
      "rowLimit": 10000
     },
     "inputWidgets": {},
     "nuid": "afe4de16-d7d5-4019-a576-fea464016899",
     "showTitle": false,
     "tableResultSettingsMap": {},
     "title": ""
    }
   },
   "outputs": [],
   "source": [
    "DESC EXTENDED delta_lake.test_table;"
   ]
  },
  {
   "cell_type": "markdown",
   "metadata": {
    "application/vnd.databricks.v1+cell": {
     "cellMetadata": {},
     "inputWidgets": {},
     "nuid": "1d3b2269-64e3-4d37-b3a6-49f32b2a7c72",
     "showTitle": false,
     "tableResultSettingsMap": {},
     "title": ""
    }
   },
   "source": [
    "## 2. Column Properties\n",
    "2.1. NOT NULL constraints - enforce data integrity and quality by ensuring that a specific column cannot contain NULL values \\\n",
    "2.2. COMMENT - documents the purpose or context of individual columns in a table"
   ]
  },
  {
   "cell_type": "code",
   "execution_count": 0,
   "metadata": {
    "application/vnd.databricks.v1+cell": {
     "cellMetadata": {
      "byteLimit": 2048000,
      "rowLimit": 10000
     },
     "inputWidgets": {},
     "nuid": "7862e211-a608-44e6-86ea-939e148de333",
     "showTitle": false,
     "tableResultSettingsMap": {},
     "title": ""
    }
   },
   "outputs": [],
   "source": [
    "CREATE OR REPLACE TABLE delta_lake.test_table(\n",
    "  id INT NOT NULL,\n",
    "  name STRING COMMENT 'Provide a comment for the column',\n",
    "  dob DATE\n",
    ")\n",
    "COMMENT 'Provide a comment for the table here'\n",
    "TBLPROPERTIES (\n",
    "  'sensitive'='true',\n",
    "  delta.checkpoint.writeStatsAsJson=true\n",
    ");"
   ]
  },
  {
   "cell_type": "markdown",
   "metadata": {
    "application/vnd.databricks.v1+cell": {
     "cellMetadata": {},
     "inputWidgets": {},
     "nuid": "aa45e074-26ea-40c9-bfb3-304719db7124",
     "showTitle": false,
     "tableResultSettingsMap": {},
     "title": ""
    }
   },
   "source": [
    "2.3 Generated Identity Column - generate an identity (primary key value)\n",
    "\n",
    "GENERATED { ALWAYS | BY DEFAULT } AS IDENTITY [ ( [START WITH start ] [ INCREMENT BY step] ) ]"
   ]
  },
  {
   "cell_type": "code",
   "execution_count": 0,
   "metadata": {
    "application/vnd.databricks.v1+cell": {
     "cellMetadata": {
      "byteLimit": 2048000,
      "rowLimit": 10000
     },
     "inputWidgets": {},
     "nuid": "2e78bb81-729e-4787-ae2d-6527edbea7e9",
     "showTitle": false,
     "tableResultSettingsMap": {},
     "title": ""
    }
   },
   "outputs": [],
   "source": [
    "CREATE OR REPLACE TABLE delta_lake.test_table(\n",
    "  id BIGINT NOT NULL GENERATED ALWAYS AS IDENTITY (START WITH 100 INCREMENT BY 10),\n",
    "  name STRING COMMENT 'Provide a comment for the column',\n",
    "  dob DATE\n",
    ")\n",
    "COMMENT 'Provide a comment for the table here'\n",
    "TBLPROPERTIES (\n",
    "  'sensitive'='true',\n",
    "  delta.checkpoint.writeStatsAsJson=true\n",
    ");"
   ]
  },
  {
   "cell_type": "code",
   "execution_count": 0,
   "metadata": {
    "application/vnd.databricks.v1+cell": {
     "cellMetadata": {
      "byteLimit": 2048000,
      "rowLimit": 10000
     },
     "inputWidgets": {},
     "nuid": "37201832-79c7-448f-8107-1d5113ef7e61",
     "showTitle": false,
     "tableResultSettingsMap": {},
     "title": ""
    }
   },
   "outputs": [],
   "source": [
    "INSERT INTO delta_lake.test_table\n",
    "(name, dob)\n",
    "VALUES\n",
    "('Tom', '1970-01-01'),\n",
    "('Tiffany', '1973-01-01'),\n",
    "('Jeff', '1992-01-01'),\n",
    "('Jane', '2001-01-01');"
   ]
  },
  {
   "cell_type": "code",
   "execution_count": 0,
   "metadata": {
    "application/vnd.databricks.v1+cell": {
     "cellMetadata": {
      "byteLimit": 2048000,
      "rowLimit": 10000
     },
     "inputWidgets": {},
     "nuid": "be5f2f8c-046f-41b7-a6a8-252b65068034",
     "showTitle": false,
     "tableResultSettingsMap": {},
     "title": ""
    }
   },
   "outputs": [],
   "source": [
    "select *\n",
    "from delta_lake.test_table;"
   ]
  },
  {
   "cell_type": "markdown",
   "metadata": {
    "application/vnd.databricks.v1+cell": {
     "cellMetadata": {},
     "inputWidgets": {},
     "nuid": "7cad86af-586f-47ab-9aaf-794be9875f4a",
     "showTitle": false,
     "tableResultSettingsMap": {},
     "title": ""
    }
   },
   "source": [
    "2.3 Generated Computed Column\n",
    "\n",
    "GENERATED ALWAYS AS ( expr )\n",
    "\n",
    "**_expr_** may be composed of literals, column identifiers within the table, and detministic, built-in SQL functions or operators except\n",
    "* Aggregate functions\n",
    "* Analytic window functions\n",
    "* Ranking window functions\n",
    "* Table valued generated functions\n",
    "\n",
    "Also **_expr_** must not contain any subquery."
   ]
  },
  {
   "cell_type": "code",
   "execution_count": 0,
   "metadata": {
    "application/vnd.databricks.v1+cell": {
     "cellMetadata": {
      "byteLimit": 2048000,
      "rowLimit": 10000
     },
     "inputWidgets": {},
     "nuid": "f7e298ab-6189-4fc3-a466-799871091a9b",
     "showTitle": false,
     "tableResultSettingsMap": {},
     "title": ""
    }
   },
   "outputs": [],
   "source": [
    "DROP TABLE IF EXISTS delta_lake.test_table;\n",
    "CREATE OR REPLACE TABLE delta_lake.test_table(\n",
    "  id BIGINT NOT NULL GENERATED ALWAYS AS IDENTITY (START WITH 100 INCREMENT BY 10),\n",
    "  name STRING COMMENT 'Provide a comment for the column',\n",
    "  dob DATE,\n",
    "  birth_year INT GENERATED ALWAYS AS (YEAR(dob))\n",
    ")\n",
    "COMMENT 'Provide a comment for the table here'\n",
    "TBLPROPERTIES (\n",
    "  'sensitive'='true',\n",
    "  delta.checkpoint.writeStatsAsJson=true\n",
    ");"
   ]
  }
 ],
 "metadata": {
  "application/vnd.databricks.v1+notebook": {
   "computePreferences": null,
   "dashboards": [],
   "environmentMetadata": {
    "base_environment": "",
    "environment_version": "2"
   },
   "inputWidgetPreferences": null,
   "language": "sql",
   "notebookMetadata": {
    "pythonIndentUnit": 4
   },
   "notebookName": "03. create table - table & column properties",
   "widgets": {}
  },
  "language_info": {
   "name": "sql"
  }
 },
 "nbformat": 4,
 "nbformat_minor": 0
}
