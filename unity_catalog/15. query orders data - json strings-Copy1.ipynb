{
 "cells": [
  {
   "cell_type": "markdown",
   "id": "d4e7f7e1-2b71-4961-bb82-f699830401ce",
   "metadata": {},
   "source": [
    "# Query Orders Data as JSON Strings\n",
    "1. Extract top level column values\n",
    "2. Extract array elements\n",
    "3. Extract nested column values\n",
    "4. CAST column values to a specific data type"
   ]
  },
  {
   "cell_type": "code",
   "execution_count": null,
   "id": "68025108-1b5e-4e2d-8770-4a513324a3ab",
   "metadata": {},
   "outputs": [],
   "source": [
    "SELECT *\n",
    "FROM udemyttstorage_catalog.bronze.orders_view;"
   ]
  },
  {
   "cell_type": "markdown",
   "id": "431be778-e414-45e0-9d71-43f44f71054f",
   "metadata": {},
   "source": [
    "1. Extract top level column values"
   ]
  },
  {
   "cell_type": "code",
   "execution_count": null,
   "id": "7b5308f4-2891-4cef-8e11-1ccc3b0cd51d",
   "metadata": {},
   "outputs": [],
   "source": [
    "# the orders_view contains a list of 1 column containing json text\n",
    "# \"value:order_id\" => order_id attribute in the value json text\n",
    "# Example: value = \"{\"order_id\": 1, \"customer_id\": 6533}\n",
    "SELECT\n",
    "    value:order_id AS order_id,\n",
    "    value\n",
    "FROM udemyttstorage_catalog.bronze.orders_view;"
   ]
  },
  {
   "cell_type": "markdown",
   "id": "d7315bee-9b86-458f-a3a6-ed0498e9803b",
   "metadata": {},
   "source": [
    "2. Extract array elements"
   ]
  },
  {
   "cell_type": "code",
   "execution_count": null,
   "id": "a8080967-83ee-4de0-a225-f0b9cdfef6ae",
   "metadata": {},
   "outputs": [],
   "source": [
    "SELECT\n",
    "    value:items[0] AS first_item,\n",
    "    value:items[1] AS second_item,\n",
    "    value\n",
    "FROM udemyttstorage_catalog.bronze.orders_view;"
   ]
  },
  {
   "cell_type": "markdown",
   "id": "32dc28db-809b-40ba-8345-2801577a47f2",
   "metadata": {},
   "source": [
    "3. Extract nested column values"
   ]
  },
  {
   "cell_type": "code",
   "execution_count": null,
   "id": "fc5928fb-9b00-4bb7-bc1e-0a6d5a6a0795",
   "metadata": {},
   "outputs": [],
   "source": [
    "SELECT\n",
    "    value:items[0].item_id::INTEGER AS first_item_id,\n",
    "    value:items[0].name AS first_item_name,\n",
    "    value:items[0].category AS first_item_category,\n",
    "    value\n",
    "FROM udemyttstorage_catalog.bronze.orders_view;"
   ]
  }
 ],
 "metadata": {
  "kernelspec": {
   "display_name": "Python 3 (ipykernel)",
   "language": "python",
   "name": "python3"
  },
  "language_info": {
   "codemirror_mode": {
    "name": "ipython",
    "version": 3
   },
   "file_extension": ".py",
   "mimetype": "text/x-python",
   "name": "python",
   "nbconvert_exporter": "python",
   "pygments_lexer": "ipython3",
   "version": "3.13.3"
  }
 },
 "nbformat": 4,
 "nbformat_minor": 5
}
